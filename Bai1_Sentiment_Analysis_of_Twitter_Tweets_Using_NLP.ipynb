{
  "metadata": {
    "kernelspec": {
      "display_name": "Python 3",
      "name": "python3"
    },
    "language_info": {
      "name": "python",
      "version": "3.10.13",
      "mimetype": "text/x-python",
      "codemirror_mode": {
        "name": "ipython",
        "version": 3
      },
      "pygments_lexer": "ipython3",
      "nbconvert_exporter": "python",
      "file_extension": ".py"
    },
    "kaggle": {
      "accelerator": "none",
      "dataSources": [
        {
          "sourceId": 3428111,
          "sourceType": "datasetVersion",
          "datasetId": 2066095
        }
      ],
      "dockerImageVersionId": 30732,
      "isInternetEnabled": true,
      "language": "python",
      "sourceType": "notebook",
      "isGpuEnabled": false
    },
    "colab": {
      "provenance": [],
      "gpuType": "T4"
    },
    "widgets": {
      "application/vnd.jupyter.widget-state+json": {
        "ed0953b4b45b4a3393c9ed93fcaa3636": {
          "model_module": "@jupyter-widgets/controls",
          "model_name": "HBoxModel",
          "model_module_version": "1.5.0",
          "state": {
            "_dom_classes": [],
            "_model_module": "@jupyter-widgets/controls",
            "_model_module_version": "1.5.0",
            "_model_name": "HBoxModel",
            "_view_count": null,
            "_view_module": "@jupyter-widgets/controls",
            "_view_module_version": "1.5.0",
            "_view_name": "HBoxView",
            "box_style": "",
            "children": [
              "IPY_MODEL_ecc61e22aba544aaa39f5b8bc7f4125c",
              "IPY_MODEL_ca47185c85e94f8f8029af08cc5791e3",
              "IPY_MODEL_a5ca75f044a5419ab51eeca254976010"
            ],
            "layout": "IPY_MODEL_ed278e5d17894c01afeea3557f18ed56"
          }
        },
        "ecc61e22aba544aaa39f5b8bc7f4125c": {
          "model_module": "@jupyter-widgets/controls",
          "model_name": "HTMLModel",
          "model_module_version": "1.5.0",
          "state": {
            "_dom_classes": [],
            "_model_module": "@jupyter-widgets/controls",
            "_model_module_version": "1.5.0",
            "_model_name": "HTMLModel",
            "_view_count": null,
            "_view_module": "@jupyter-widgets/controls",
            "_view_module_version": "1.5.0",
            "_view_name": "HTMLView",
            "description": "",
            "description_tooltip": null,
            "layout": "IPY_MODEL_1effffd77195444e80e842dbd91ed04d",
            "placeholder": "​",
            "style": "IPY_MODEL_045366cd624e45a797feedb9374badb6",
            "value": "tokenizer_config.json: 100%"
          }
        },
        "ca47185c85e94f8f8029af08cc5791e3": {
          "model_module": "@jupyter-widgets/controls",
          "model_name": "FloatProgressModel",
          "model_module_version": "1.5.0",
          "state": {
            "_dom_classes": [],
            "_model_module": "@jupyter-widgets/controls",
            "_model_module_version": "1.5.0",
            "_model_name": "FloatProgressModel",
            "_view_count": null,
            "_view_module": "@jupyter-widgets/controls",
            "_view_module_version": "1.5.0",
            "_view_name": "ProgressView",
            "bar_style": "success",
            "description": "",
            "description_tooltip": null,
            "layout": "IPY_MODEL_abd0c51276284459b2d50ff97476eed5",
            "max": 48,
            "min": 0,
            "orientation": "horizontal",
            "style": "IPY_MODEL_1d408035bb1c4c24803a70fd547af17b",
            "value": 48
          }
        },
        "a5ca75f044a5419ab51eeca254976010": {
          "model_module": "@jupyter-widgets/controls",
          "model_name": "HTMLModel",
          "model_module_version": "1.5.0",
          "state": {
            "_dom_classes": [],
            "_model_module": "@jupyter-widgets/controls",
            "_model_module_version": "1.5.0",
            "_model_name": "HTMLModel",
            "_view_count": null,
            "_view_module": "@jupyter-widgets/controls",
            "_view_module_version": "1.5.0",
            "_view_name": "HTMLView",
            "description": "",
            "description_tooltip": null,
            "layout": "IPY_MODEL_d2b2cdfc18f944cab28f3b8e5501f24e",
            "placeholder": "​",
            "style": "IPY_MODEL_1904d889a77740c09356aa317c19b019",
            "value": " 48.0/48.0 [00:00&lt;00:00, 4.72kB/s]"
          }
        },
        "ed278e5d17894c01afeea3557f18ed56": {
          "model_module": "@jupyter-widgets/base",
          "model_name": "LayoutModel",
          "model_module_version": "1.2.0",
          "state": {
            "_model_module": "@jupyter-widgets/base",
            "_model_module_version": "1.2.0",
            "_model_name": "LayoutModel",
            "_view_count": null,
            "_view_module": "@jupyter-widgets/base",
            "_view_module_version": "1.2.0",
            "_view_name": "LayoutView",
            "align_content": null,
            "align_items": null,
            "align_self": null,
            "border": null,
            "bottom": null,
            "display": null,
            "flex": null,
            "flex_flow": null,
            "grid_area": null,
            "grid_auto_columns": null,
            "grid_auto_flow": null,
            "grid_auto_rows": null,
            "grid_column": null,
            "grid_gap": null,
            "grid_row": null,
            "grid_template_areas": null,
            "grid_template_columns": null,
            "grid_template_rows": null,
            "height": null,
            "justify_content": null,
            "justify_items": null,
            "left": null,
            "margin": null,
            "max_height": null,
            "max_width": null,
            "min_height": null,
            "min_width": null,
            "object_fit": null,
            "object_position": null,
            "order": null,
            "overflow": null,
            "overflow_x": null,
            "overflow_y": null,
            "padding": null,
            "right": null,
            "top": null,
            "visibility": null,
            "width": null
          }
        },
        "1effffd77195444e80e842dbd91ed04d": {
          "model_module": "@jupyter-widgets/base",
          "model_name": "LayoutModel",
          "model_module_version": "1.2.0",
          "state": {
            "_model_module": "@jupyter-widgets/base",
            "_model_module_version": "1.2.0",
            "_model_name": "LayoutModel",
            "_view_count": null,
            "_view_module": "@jupyter-widgets/base",
            "_view_module_version": "1.2.0",
            "_view_name": "LayoutView",
            "align_content": null,
            "align_items": null,
            "align_self": null,
            "border": null,
            "bottom": null,
            "display": null,
            "flex": null,
            "flex_flow": null,
            "grid_area": null,
            "grid_auto_columns": null,
            "grid_auto_flow": null,
            "grid_auto_rows": null,
            "grid_column": null,
            "grid_gap": null,
            "grid_row": null,
            "grid_template_areas": null,
            "grid_template_columns": null,
            "grid_template_rows": null,
            "height": null,
            "justify_content": null,
            "justify_items": null,
            "left": null,
            "margin": null,
            "max_height": null,
            "max_width": null,
            "min_height": null,
            "min_width": null,
            "object_fit": null,
            "object_position": null,
            "order": null,
            "overflow": null,
            "overflow_x": null,
            "overflow_y": null,
            "padding": null,
            "right": null,
            "top": null,
            "visibility": null,
            "width": null
          }
        },
        "045366cd624e45a797feedb9374badb6": {
          "model_module": "@jupyter-widgets/controls",
          "model_name": "DescriptionStyleModel",
          "model_module_version": "1.5.0",
          "state": {
            "_model_module": "@jupyter-widgets/controls",
            "_model_module_version": "1.5.0",
            "_model_name": "DescriptionStyleModel",
            "_view_count": null,
            "_view_module": "@jupyter-widgets/base",
            "_view_module_version": "1.2.0",
            "_view_name": "StyleView",
            "description_width": ""
          }
        },
        "abd0c51276284459b2d50ff97476eed5": {
          "model_module": "@jupyter-widgets/base",
          "model_name": "LayoutModel",
          "model_module_version": "1.2.0",
          "state": {
            "_model_module": "@jupyter-widgets/base",
            "_model_module_version": "1.2.0",
            "_model_name": "LayoutModel",
            "_view_count": null,
            "_view_module": "@jupyter-widgets/base",
            "_view_module_version": "1.2.0",
            "_view_name": "LayoutView",
            "align_content": null,
            "align_items": null,
            "align_self": null,
            "border": null,
            "bottom": null,
            "display": null,
            "flex": null,
            "flex_flow": null,
            "grid_area": null,
            "grid_auto_columns": null,
            "grid_auto_flow": null,
            "grid_auto_rows": null,
            "grid_column": null,
            "grid_gap": null,
            "grid_row": null,
            "grid_template_areas": null,
            "grid_template_columns": null,
            "grid_template_rows": null,
            "height": null,
            "justify_content": null,
            "justify_items": null,
            "left": null,
            "margin": null,
            "max_height": null,
            "max_width": null,
            "min_height": null,
            "min_width": null,
            "object_fit": null,
            "object_position": null,
            "order": null,
            "overflow": null,
            "overflow_x": null,
            "overflow_y": null,
            "padding": null,
            "right": null,
            "top": null,
            "visibility": null,
            "width": null
          }
        },
        "1d408035bb1c4c24803a70fd547af17b": {
          "model_module": "@jupyter-widgets/controls",
          "model_name": "ProgressStyleModel",
          "model_module_version": "1.5.0",
          "state": {
            "_model_module": "@jupyter-widgets/controls",
            "_model_module_version": "1.5.0",
            "_model_name": "ProgressStyleModel",
            "_view_count": null,
            "_view_module": "@jupyter-widgets/base",
            "_view_module_version": "1.2.0",
            "_view_name": "StyleView",
            "bar_color": null,
            "description_width": ""
          }
        },
        "d2b2cdfc18f944cab28f3b8e5501f24e": {
          "model_module": "@jupyter-widgets/base",
          "model_name": "LayoutModel",
          "model_module_version": "1.2.0",
          "state": {
            "_model_module": "@jupyter-widgets/base",
            "_model_module_version": "1.2.0",
            "_model_name": "LayoutModel",
            "_view_count": null,
            "_view_module": "@jupyter-widgets/base",
            "_view_module_version": "1.2.0",
            "_view_name": "LayoutView",
            "align_content": null,
            "align_items": null,
            "align_self": null,
            "border": null,
            "bottom": null,
            "display": null,
            "flex": null,
            "flex_flow": null,
            "grid_area": null,
            "grid_auto_columns": null,
            "grid_auto_flow": null,
            "grid_auto_rows": null,
            "grid_column": null,
            "grid_gap": null,
            "grid_row": null,
            "grid_template_areas": null,
            "grid_template_columns": null,
            "grid_template_rows": null,
            "height": null,
            "justify_content": null,
            "justify_items": null,
            "left": null,
            "margin": null,
            "max_height": null,
            "max_width": null,
            "min_height": null,
            "min_width": null,
            "object_fit": null,
            "object_position": null,
            "order": null,
            "overflow": null,
            "overflow_x": null,
            "overflow_y": null,
            "padding": null,
            "right": null,
            "top": null,
            "visibility": null,
            "width": null
          }
        },
        "1904d889a77740c09356aa317c19b019": {
          "model_module": "@jupyter-widgets/controls",
          "model_name": "DescriptionStyleModel",
          "model_module_version": "1.5.0",
          "state": {
            "_model_module": "@jupyter-widgets/controls",
            "_model_module_version": "1.5.0",
            "_model_name": "DescriptionStyleModel",
            "_view_count": null,
            "_view_module": "@jupyter-widgets/base",
            "_view_module_version": "1.2.0",
            "_view_name": "StyleView",
            "description_width": ""
          }
        },
        "26d5e2d6ab6f434691969a4396a5f7b4": {
          "model_module": "@jupyter-widgets/controls",
          "model_name": "HBoxModel",
          "model_module_version": "1.5.0",
          "state": {
            "_dom_classes": [],
            "_model_module": "@jupyter-widgets/controls",
            "_model_module_version": "1.5.0",
            "_model_name": "HBoxModel",
            "_view_count": null,
            "_view_module": "@jupyter-widgets/controls",
            "_view_module_version": "1.5.0",
            "_view_name": "HBoxView",
            "box_style": "",
            "children": [
              "IPY_MODEL_30c06afdc6eb4dd08a26ec07faaeb846",
              "IPY_MODEL_cd4246bf42d2431d87f8c2ab53504fff",
              "IPY_MODEL_e4f3906a7c9f4191bf7b6d0dcfd8936e"
            ],
            "layout": "IPY_MODEL_b050907669fe4465a6fefcdecc90e60c"
          }
        },
        "30c06afdc6eb4dd08a26ec07faaeb846": {
          "model_module": "@jupyter-widgets/controls",
          "model_name": "HTMLModel",
          "model_module_version": "1.5.0",
          "state": {
            "_dom_classes": [],
            "_model_module": "@jupyter-widgets/controls",
            "_model_module_version": "1.5.0",
            "_model_name": "HTMLModel",
            "_view_count": null,
            "_view_module": "@jupyter-widgets/controls",
            "_view_module_version": "1.5.0",
            "_view_name": "HTMLView",
            "description": "",
            "description_tooltip": null,
            "layout": "IPY_MODEL_9b7d5cd2b4924121b87048520ea0dc9f",
            "placeholder": "​",
            "style": "IPY_MODEL_de7ca1c45b914714995438f3394be44d",
            "value": "vocab.txt: 100%"
          }
        },
        "cd4246bf42d2431d87f8c2ab53504fff": {
          "model_module": "@jupyter-widgets/controls",
          "model_name": "FloatProgressModel",
          "model_module_version": "1.5.0",
          "state": {
            "_dom_classes": [],
            "_model_module": "@jupyter-widgets/controls",
            "_model_module_version": "1.5.0",
            "_model_name": "FloatProgressModel",
            "_view_count": null,
            "_view_module": "@jupyter-widgets/controls",
            "_view_module_version": "1.5.0",
            "_view_name": "ProgressView",
            "bar_style": "success",
            "description": "",
            "description_tooltip": null,
            "layout": "IPY_MODEL_b17ed1542f2e4faaab9ad88d659a17dc",
            "max": 231508,
            "min": 0,
            "orientation": "horizontal",
            "style": "IPY_MODEL_7bb46bf09a24461ca9b4a6d4677d02ec",
            "value": 231508
          }
        },
        "e4f3906a7c9f4191bf7b6d0dcfd8936e": {
          "model_module": "@jupyter-widgets/controls",
          "model_name": "HTMLModel",
          "model_module_version": "1.5.0",
          "state": {
            "_dom_classes": [],
            "_model_module": "@jupyter-widgets/controls",
            "_model_module_version": "1.5.0",
            "_model_name": "HTMLModel",
            "_view_count": null,
            "_view_module": "@jupyter-widgets/controls",
            "_view_module_version": "1.5.0",
            "_view_name": "HTMLView",
            "description": "",
            "description_tooltip": null,
            "layout": "IPY_MODEL_7b005f619ab44ea186808c6b40186294",
            "placeholder": "​",
            "style": "IPY_MODEL_c9503902725f4e7ea48e1e99a50bf6b4",
            "value": " 232k/232k [00:00&lt;00:00, 6.78MB/s]"
          }
        },
        "b050907669fe4465a6fefcdecc90e60c": {
          "model_module": "@jupyter-widgets/base",
          "model_name": "LayoutModel",
          "model_module_version": "1.2.0",
          "state": {
            "_model_module": "@jupyter-widgets/base",
            "_model_module_version": "1.2.0",
            "_model_name": "LayoutModel",
            "_view_count": null,
            "_view_module": "@jupyter-widgets/base",
            "_view_module_version": "1.2.0",
            "_view_name": "LayoutView",
            "align_content": null,
            "align_items": null,
            "align_self": null,
            "border": null,
            "bottom": null,
            "display": null,
            "flex": null,
            "flex_flow": null,
            "grid_area": null,
            "grid_auto_columns": null,
            "grid_auto_flow": null,
            "grid_auto_rows": null,
            "grid_column": null,
            "grid_gap": null,
            "grid_row": null,
            "grid_template_areas": null,
            "grid_template_columns": null,
            "grid_template_rows": null,
            "height": null,
            "justify_content": null,
            "justify_items": null,
            "left": null,
            "margin": null,
            "max_height": null,
            "max_width": null,
            "min_height": null,
            "min_width": null,
            "object_fit": null,
            "object_position": null,
            "order": null,
            "overflow": null,
            "overflow_x": null,
            "overflow_y": null,
            "padding": null,
            "right": null,
            "top": null,
            "visibility": null,
            "width": null
          }
        },
        "9b7d5cd2b4924121b87048520ea0dc9f": {
          "model_module": "@jupyter-widgets/base",
          "model_name": "LayoutModel",
          "model_module_version": "1.2.0",
          "state": {
            "_model_module": "@jupyter-widgets/base",
            "_model_module_version": "1.2.0",
            "_model_name": "LayoutModel",
            "_view_count": null,
            "_view_module": "@jupyter-widgets/base",
            "_view_module_version": "1.2.0",
            "_view_name": "LayoutView",
            "align_content": null,
            "align_items": null,
            "align_self": null,
            "border": null,
            "bottom": null,
            "display": null,
            "flex": null,
            "flex_flow": null,
            "grid_area": null,
            "grid_auto_columns": null,
            "grid_auto_flow": null,
            "grid_auto_rows": null,
            "grid_column": null,
            "grid_gap": null,
            "grid_row": null,
            "grid_template_areas": null,
            "grid_template_columns": null,
            "grid_template_rows": null,
            "height": null,
            "justify_content": null,
            "justify_items": null,
            "left": null,
            "margin": null,
            "max_height": null,
            "max_width": null,
            "min_height": null,
            "min_width": null,
            "object_fit": null,
            "object_position": null,
            "order": null,
            "overflow": null,
            "overflow_x": null,
            "overflow_y": null,
            "padding": null,
            "right": null,
            "top": null,
            "visibility": null,
            "width": null
          }
        },
        "de7ca1c45b914714995438f3394be44d": {
          "model_module": "@jupyter-widgets/controls",
          "model_name": "DescriptionStyleModel",
          "model_module_version": "1.5.0",
          "state": {
            "_model_module": "@jupyter-widgets/controls",
            "_model_module_version": "1.5.0",
            "_model_name": "DescriptionStyleModel",
            "_view_count": null,
            "_view_module": "@jupyter-widgets/base",
            "_view_module_version": "1.2.0",
            "_view_name": "StyleView",
            "description_width": ""
          }
        },
        "b17ed1542f2e4faaab9ad88d659a17dc": {
          "model_module": "@jupyter-widgets/base",
          "model_name": "LayoutModel",
          "model_module_version": "1.2.0",
          "state": {
            "_model_module": "@jupyter-widgets/base",
            "_model_module_version": "1.2.0",
            "_model_name": "LayoutModel",
            "_view_count": null,
            "_view_module": "@jupyter-widgets/base",
            "_view_module_version": "1.2.0",
            "_view_name": "LayoutView",
            "align_content": null,
            "align_items": null,
            "align_self": null,
            "border": null,
            "bottom": null,
            "display": null,
            "flex": null,
            "flex_flow": null,
            "grid_area": null,
            "grid_auto_columns": null,
            "grid_auto_flow": null,
            "grid_auto_rows": null,
            "grid_column": null,
            "grid_gap": null,
            "grid_row": null,
            "grid_template_areas": null,
            "grid_template_columns": null,
            "grid_template_rows": null,
            "height": null,
            "justify_content": null,
            "justify_items": null,
            "left": null,
            "margin": null,
            "max_height": null,
            "max_width": null,
            "min_height": null,
            "min_width": null,
            "object_fit": null,
            "object_position": null,
            "order": null,
            "overflow": null,
            "overflow_x": null,
            "overflow_y": null,
            "padding": null,
            "right": null,
            "top": null,
            "visibility": null,
            "width": null
          }
        },
        "7bb46bf09a24461ca9b4a6d4677d02ec": {
          "model_module": "@jupyter-widgets/controls",
          "model_name": "ProgressStyleModel",
          "model_module_version": "1.5.0",
          "state": {
            "_model_module": "@jupyter-widgets/controls",
            "_model_module_version": "1.5.0",
            "_model_name": "ProgressStyleModel",
            "_view_count": null,
            "_view_module": "@jupyter-widgets/base",
            "_view_module_version": "1.2.0",
            "_view_name": "StyleView",
            "bar_color": null,
            "description_width": ""
          }
        },
        "7b005f619ab44ea186808c6b40186294": {
          "model_module": "@jupyter-widgets/base",
          "model_name": "LayoutModel",
          "model_module_version": "1.2.0",
          "state": {
            "_model_module": "@jupyter-widgets/base",
            "_model_module_version": "1.2.0",
            "_model_name": "LayoutModel",
            "_view_count": null,
            "_view_module": "@jupyter-widgets/base",
            "_view_module_version": "1.2.0",
            "_view_name": "LayoutView",
            "align_content": null,
            "align_items": null,
            "align_self": null,
            "border": null,
            "bottom": null,
            "display": null,
            "flex": null,
            "flex_flow": null,
            "grid_area": null,
            "grid_auto_columns": null,
            "grid_auto_flow": null,
            "grid_auto_rows": null,
            "grid_column": null,
            "grid_gap": null,
            "grid_row": null,
            "grid_template_areas": null,
            "grid_template_columns": null,
            "grid_template_rows": null,
            "height": null,
            "justify_content": null,
            "justify_items": null,
            "left": null,
            "margin": null,
            "max_height": null,
            "max_width": null,
            "min_height": null,
            "min_width": null,
            "object_fit": null,
            "object_position": null,
            "order": null,
            "overflow": null,
            "overflow_x": null,
            "overflow_y": null,
            "padding": null,
            "right": null,
            "top": null,
            "visibility": null,
            "width": null
          }
        },
        "c9503902725f4e7ea48e1e99a50bf6b4": {
          "model_module": "@jupyter-widgets/controls",
          "model_name": "DescriptionStyleModel",
          "model_module_version": "1.5.0",
          "state": {
            "_model_module": "@jupyter-widgets/controls",
            "_model_module_version": "1.5.0",
            "_model_name": "DescriptionStyleModel",
            "_view_count": null,
            "_view_module": "@jupyter-widgets/base",
            "_view_module_version": "1.2.0",
            "_view_name": "StyleView",
            "description_width": ""
          }
        },
        "549bc1ca745b44b3b547a8029d8f8609": {
          "model_module": "@jupyter-widgets/controls",
          "model_name": "HBoxModel",
          "model_module_version": "1.5.0",
          "state": {
            "_dom_classes": [],
            "_model_module": "@jupyter-widgets/controls",
            "_model_module_version": "1.5.0",
            "_model_name": "HBoxModel",
            "_view_count": null,
            "_view_module": "@jupyter-widgets/controls",
            "_view_module_version": "1.5.0",
            "_view_name": "HBoxView",
            "box_style": "",
            "children": [
              "IPY_MODEL_326a6aed38b5412c98e96bee780f84e8",
              "IPY_MODEL_78c3d5b0217f40adaab283037e237fdb",
              "IPY_MODEL_a38dac0dfea44078a220049b03238633"
            ],
            "layout": "IPY_MODEL_f160966f09914bc28ed60c06d34335d1"
          }
        },
        "326a6aed38b5412c98e96bee780f84e8": {
          "model_module": "@jupyter-widgets/controls",
          "model_name": "HTMLModel",
          "model_module_version": "1.5.0",
          "state": {
            "_dom_classes": [],
            "_model_module": "@jupyter-widgets/controls",
            "_model_module_version": "1.5.0",
            "_model_name": "HTMLModel",
            "_view_count": null,
            "_view_module": "@jupyter-widgets/controls",
            "_view_module_version": "1.5.0",
            "_view_name": "HTMLView",
            "description": "",
            "description_tooltip": null,
            "layout": "IPY_MODEL_065d19c86c7c4c6c96a21a369b76dc85",
            "placeholder": "​",
            "style": "IPY_MODEL_c6c50fc4530147ebbd9153b567b02a4d",
            "value": "tokenizer.json: 100%"
          }
        },
        "78c3d5b0217f40adaab283037e237fdb": {
          "model_module": "@jupyter-widgets/controls",
          "model_name": "FloatProgressModel",
          "model_module_version": "1.5.0",
          "state": {
            "_dom_classes": [],
            "_model_module": "@jupyter-widgets/controls",
            "_model_module_version": "1.5.0",
            "_model_name": "FloatProgressModel",
            "_view_count": null,
            "_view_module": "@jupyter-widgets/controls",
            "_view_module_version": "1.5.0",
            "_view_name": "ProgressView",
            "bar_style": "success",
            "description": "",
            "description_tooltip": null,
            "layout": "IPY_MODEL_9b7ee38a58c9471b83cca94398c911d1",
            "max": 466062,
            "min": 0,
            "orientation": "horizontal",
            "style": "IPY_MODEL_b0ccd62131ce4c92be9e2a6cd213f9ff",
            "value": 466062
          }
        },
        "a38dac0dfea44078a220049b03238633": {
          "model_module": "@jupyter-widgets/controls",
          "model_name": "HTMLModel",
          "model_module_version": "1.5.0",
          "state": {
            "_dom_classes": [],
            "_model_module": "@jupyter-widgets/controls",
            "_model_module_version": "1.5.0",
            "_model_name": "HTMLModel",
            "_view_count": null,
            "_view_module": "@jupyter-widgets/controls",
            "_view_module_version": "1.5.0",
            "_view_name": "HTMLView",
            "description": "",
            "description_tooltip": null,
            "layout": "IPY_MODEL_162139a610bf43f8a45129f8decaea70",
            "placeholder": "​",
            "style": "IPY_MODEL_810632fc48154a5ba772136cd1ce2736",
            "value": " 466k/466k [00:00&lt;00:00, 6.75MB/s]"
          }
        },
        "f160966f09914bc28ed60c06d34335d1": {
          "model_module": "@jupyter-widgets/base",
          "model_name": "LayoutModel",
          "model_module_version": "1.2.0",
          "state": {
            "_model_module": "@jupyter-widgets/base",
            "_model_module_version": "1.2.0",
            "_model_name": "LayoutModel",
            "_view_count": null,
            "_view_module": "@jupyter-widgets/base",
            "_view_module_version": "1.2.0",
            "_view_name": "LayoutView",
            "align_content": null,
            "align_items": null,
            "align_self": null,
            "border": null,
            "bottom": null,
            "display": null,
            "flex": null,
            "flex_flow": null,
            "grid_area": null,
            "grid_auto_columns": null,
            "grid_auto_flow": null,
            "grid_auto_rows": null,
            "grid_column": null,
            "grid_gap": null,
            "grid_row": null,
            "grid_template_areas": null,
            "grid_template_columns": null,
            "grid_template_rows": null,
            "height": null,
            "justify_content": null,
            "justify_items": null,
            "left": null,
            "margin": null,
            "max_height": null,
            "max_width": null,
            "min_height": null,
            "min_width": null,
            "object_fit": null,
            "object_position": null,
            "order": null,
            "overflow": null,
            "overflow_x": null,
            "overflow_y": null,
            "padding": null,
            "right": null,
            "top": null,
            "visibility": null,
            "width": null
          }
        },
        "065d19c86c7c4c6c96a21a369b76dc85": {
          "model_module": "@jupyter-widgets/base",
          "model_name": "LayoutModel",
          "model_module_version": "1.2.0",
          "state": {
            "_model_module": "@jupyter-widgets/base",
            "_model_module_version": "1.2.0",
            "_model_name": "LayoutModel",
            "_view_count": null,
            "_view_module": "@jupyter-widgets/base",
            "_view_module_version": "1.2.0",
            "_view_name": "LayoutView",
            "align_content": null,
            "align_items": null,
            "align_self": null,
            "border": null,
            "bottom": null,
            "display": null,
            "flex": null,
            "flex_flow": null,
            "grid_area": null,
            "grid_auto_columns": null,
            "grid_auto_flow": null,
            "grid_auto_rows": null,
            "grid_column": null,
            "grid_gap": null,
            "grid_row": null,
            "grid_template_areas": null,
            "grid_template_columns": null,
            "grid_template_rows": null,
            "height": null,
            "justify_content": null,
            "justify_items": null,
            "left": null,
            "margin": null,
            "max_height": null,
            "max_width": null,
            "min_height": null,
            "min_width": null,
            "object_fit": null,
            "object_position": null,
            "order": null,
            "overflow": null,
            "overflow_x": null,
            "overflow_y": null,
            "padding": null,
            "right": null,
            "top": null,
            "visibility": null,
            "width": null
          }
        },
        "c6c50fc4530147ebbd9153b567b02a4d": {
          "model_module": "@jupyter-widgets/controls",
          "model_name": "DescriptionStyleModel",
          "model_module_version": "1.5.0",
          "state": {
            "_model_module": "@jupyter-widgets/controls",
            "_model_module_version": "1.5.0",
            "_model_name": "DescriptionStyleModel",
            "_view_count": null,
            "_view_module": "@jupyter-widgets/base",
            "_view_module_version": "1.2.0",
            "_view_name": "StyleView",
            "description_width": ""
          }
        },
        "9b7ee38a58c9471b83cca94398c911d1": {
          "model_module": "@jupyter-widgets/base",
          "model_name": "LayoutModel",
          "model_module_version": "1.2.0",
          "state": {
            "_model_module": "@jupyter-widgets/base",
            "_model_module_version": "1.2.0",
            "_model_name": "LayoutModel",
            "_view_count": null,
            "_view_module": "@jupyter-widgets/base",
            "_view_module_version": "1.2.0",
            "_view_name": "LayoutView",
            "align_content": null,
            "align_items": null,
            "align_self": null,
            "border": null,
            "bottom": null,
            "display": null,
            "flex": null,
            "flex_flow": null,
            "grid_area": null,
            "grid_auto_columns": null,
            "grid_auto_flow": null,
            "grid_auto_rows": null,
            "grid_column": null,
            "grid_gap": null,
            "grid_row": null,
            "grid_template_areas": null,
            "grid_template_columns": null,
            "grid_template_rows": null,
            "height": null,
            "justify_content": null,
            "justify_items": null,
            "left": null,
            "margin": null,
            "max_height": null,
            "max_width": null,
            "min_height": null,
            "min_width": null,
            "object_fit": null,
            "object_position": null,
            "order": null,
            "overflow": null,
            "overflow_x": null,
            "overflow_y": null,
            "padding": null,
            "right": null,
            "top": null,
            "visibility": null,
            "width": null
          }
        },
        "b0ccd62131ce4c92be9e2a6cd213f9ff": {
          "model_module": "@jupyter-widgets/controls",
          "model_name": "ProgressStyleModel",
          "model_module_version": "1.5.0",
          "state": {
            "_model_module": "@jupyter-widgets/controls",
            "_model_module_version": "1.5.0",
            "_model_name": "ProgressStyleModel",
            "_view_count": null,
            "_view_module": "@jupyter-widgets/base",
            "_view_module_version": "1.2.0",
            "_view_name": "StyleView",
            "bar_color": null,
            "description_width": ""
          }
        },
        "162139a610bf43f8a45129f8decaea70": {
          "model_module": "@jupyter-widgets/base",
          "model_name": "LayoutModel",
          "model_module_version": "1.2.0",
          "state": {
            "_model_module": "@jupyter-widgets/base",
            "_model_module_version": "1.2.0",
            "_model_name": "LayoutModel",
            "_view_count": null,
            "_view_module": "@jupyter-widgets/base",
            "_view_module_version": "1.2.0",
            "_view_name": "LayoutView",
            "align_content": null,
            "align_items": null,
            "align_self": null,
            "border": null,
            "bottom": null,
            "display": null,
            "flex": null,
            "flex_flow": null,
            "grid_area": null,
            "grid_auto_columns": null,
            "grid_auto_flow": null,
            "grid_auto_rows": null,
            "grid_column": null,
            "grid_gap": null,
            "grid_row": null,
            "grid_template_areas": null,
            "grid_template_columns": null,
            "grid_template_rows": null,
            "height": null,
            "justify_content": null,
            "justify_items": null,
            "left": null,
            "margin": null,
            "max_height": null,
            "max_width": null,
            "min_height": null,
            "min_width": null,
            "object_fit": null,
            "object_position": null,
            "order": null,
            "overflow": null,
            "overflow_x": null,
            "overflow_y": null,
            "padding": null,
            "right": null,
            "top": null,
            "visibility": null,
            "width": null
          }
        },
        "810632fc48154a5ba772136cd1ce2736": {
          "model_module": "@jupyter-widgets/controls",
          "model_name": "DescriptionStyleModel",
          "model_module_version": "1.5.0",
          "state": {
            "_model_module": "@jupyter-widgets/controls",
            "_model_module_version": "1.5.0",
            "_model_name": "DescriptionStyleModel",
            "_view_count": null,
            "_view_module": "@jupyter-widgets/base",
            "_view_module_version": "1.2.0",
            "_view_name": "StyleView",
            "description_width": ""
          }
        },
        "78093e382f4c40489b1a8110b1901539": {
          "model_module": "@jupyter-widgets/controls",
          "model_name": "HBoxModel",
          "model_module_version": "1.5.0",
          "state": {
            "_dom_classes": [],
            "_model_module": "@jupyter-widgets/controls",
            "_model_module_version": "1.5.0",
            "_model_name": "HBoxModel",
            "_view_count": null,
            "_view_module": "@jupyter-widgets/controls",
            "_view_module_version": "1.5.0",
            "_view_name": "HBoxView",
            "box_style": "",
            "children": [
              "IPY_MODEL_9af8a02668234a5aba8b05944c69deae",
              "IPY_MODEL_0a1d9f4fa3834f0492ca81a0514360af",
              "IPY_MODEL_bd82e0f56bed4ff59a2fb52f3c9bc912"
            ],
            "layout": "IPY_MODEL_0e868d3dd92a4d70b279f652457f201c"
          }
        },
        "9af8a02668234a5aba8b05944c69deae": {
          "model_module": "@jupyter-widgets/controls",
          "model_name": "HTMLModel",
          "model_module_version": "1.5.0",
          "state": {
            "_dom_classes": [],
            "_model_module": "@jupyter-widgets/controls",
            "_model_module_version": "1.5.0",
            "_model_name": "HTMLModel",
            "_view_count": null,
            "_view_module": "@jupyter-widgets/controls",
            "_view_module_version": "1.5.0",
            "_view_name": "HTMLView",
            "description": "",
            "description_tooltip": null,
            "layout": "IPY_MODEL_b010ad8047244098af45470cdb92acaa",
            "placeholder": "​",
            "style": "IPY_MODEL_b01086fedc5e4206bae5bc7d3f0db664",
            "value": "config.json: 100%"
          }
        },
        "0a1d9f4fa3834f0492ca81a0514360af": {
          "model_module": "@jupyter-widgets/controls",
          "model_name": "FloatProgressModel",
          "model_module_version": "1.5.0",
          "state": {
            "_dom_classes": [],
            "_model_module": "@jupyter-widgets/controls",
            "_model_module_version": "1.5.0",
            "_model_name": "FloatProgressModel",
            "_view_count": null,
            "_view_module": "@jupyter-widgets/controls",
            "_view_module_version": "1.5.0",
            "_view_name": "ProgressView",
            "bar_style": "success",
            "description": "",
            "description_tooltip": null,
            "layout": "IPY_MODEL_2117fd73d0cf4ddcbca8f01107844f96",
            "max": 570,
            "min": 0,
            "orientation": "horizontal",
            "style": "IPY_MODEL_41dcf49809684e589df31a1d067e22f8",
            "value": 570
          }
        },
        "bd82e0f56bed4ff59a2fb52f3c9bc912": {
          "model_module": "@jupyter-widgets/controls",
          "model_name": "HTMLModel",
          "model_module_version": "1.5.0",
          "state": {
            "_dom_classes": [],
            "_model_module": "@jupyter-widgets/controls",
            "_model_module_version": "1.5.0",
            "_model_name": "HTMLModel",
            "_view_count": null,
            "_view_module": "@jupyter-widgets/controls",
            "_view_module_version": "1.5.0",
            "_view_name": "HTMLView",
            "description": "",
            "description_tooltip": null,
            "layout": "IPY_MODEL_19e316f1ff9d412da14562227e8cf260",
            "placeholder": "​",
            "style": "IPY_MODEL_2d792ad7b5a545dd8c6ec933c2157c68",
            "value": " 570/570 [00:00&lt;00:00, 66.0kB/s]"
          }
        },
        "0e868d3dd92a4d70b279f652457f201c": {
          "model_module": "@jupyter-widgets/base",
          "model_name": "LayoutModel",
          "model_module_version": "1.2.0",
          "state": {
            "_model_module": "@jupyter-widgets/base",
            "_model_module_version": "1.2.0",
            "_model_name": "LayoutModel",
            "_view_count": null,
            "_view_module": "@jupyter-widgets/base",
            "_view_module_version": "1.2.0",
            "_view_name": "LayoutView",
            "align_content": null,
            "align_items": null,
            "align_self": null,
            "border": null,
            "bottom": null,
            "display": null,
            "flex": null,
            "flex_flow": null,
            "grid_area": null,
            "grid_auto_columns": null,
            "grid_auto_flow": null,
            "grid_auto_rows": null,
            "grid_column": null,
            "grid_gap": null,
            "grid_row": null,
            "grid_template_areas": null,
            "grid_template_columns": null,
            "grid_template_rows": null,
            "height": null,
            "justify_content": null,
            "justify_items": null,
            "left": null,
            "margin": null,
            "max_height": null,
            "max_width": null,
            "min_height": null,
            "min_width": null,
            "object_fit": null,
            "object_position": null,
            "order": null,
            "overflow": null,
            "overflow_x": null,
            "overflow_y": null,
            "padding": null,
            "right": null,
            "top": null,
            "visibility": null,
            "width": null
          }
        },
        "b010ad8047244098af45470cdb92acaa": {
          "model_module": "@jupyter-widgets/base",
          "model_name": "LayoutModel",
          "model_module_version": "1.2.0",
          "state": {
            "_model_module": "@jupyter-widgets/base",
            "_model_module_version": "1.2.0",
            "_model_name": "LayoutModel",
            "_view_count": null,
            "_view_module": "@jupyter-widgets/base",
            "_view_module_version": "1.2.0",
            "_view_name": "LayoutView",
            "align_content": null,
            "align_items": null,
            "align_self": null,
            "border": null,
            "bottom": null,
            "display": null,
            "flex": null,
            "flex_flow": null,
            "grid_area": null,
            "grid_auto_columns": null,
            "grid_auto_flow": null,
            "grid_auto_rows": null,
            "grid_column": null,
            "grid_gap": null,
            "grid_row": null,
            "grid_template_areas": null,
            "grid_template_columns": null,
            "grid_template_rows": null,
            "height": null,
            "justify_content": null,
            "justify_items": null,
            "left": null,
            "margin": null,
            "max_height": null,
            "max_width": null,
            "min_height": null,
            "min_width": null,
            "object_fit": null,
            "object_position": null,
            "order": null,
            "overflow": null,
            "overflow_x": null,
            "overflow_y": null,
            "padding": null,
            "right": null,
            "top": null,
            "visibility": null,
            "width": null
          }
        },
        "b01086fedc5e4206bae5bc7d3f0db664": {
          "model_module": "@jupyter-widgets/controls",
          "model_name": "DescriptionStyleModel",
          "model_module_version": "1.5.0",
          "state": {
            "_model_module": "@jupyter-widgets/controls",
            "_model_module_version": "1.5.0",
            "_model_name": "DescriptionStyleModel",
            "_view_count": null,
            "_view_module": "@jupyter-widgets/base",
            "_view_module_version": "1.2.0",
            "_view_name": "StyleView",
            "description_width": ""
          }
        },
        "2117fd73d0cf4ddcbca8f01107844f96": {
          "model_module": "@jupyter-widgets/base",
          "model_name": "LayoutModel",
          "model_module_version": "1.2.0",
          "state": {
            "_model_module": "@jupyter-widgets/base",
            "_model_module_version": "1.2.0",
            "_model_name": "LayoutModel",
            "_view_count": null,
            "_view_module": "@jupyter-widgets/base",
            "_view_module_version": "1.2.0",
            "_view_name": "LayoutView",
            "align_content": null,
            "align_items": null,
            "align_self": null,
            "border": null,
            "bottom": null,
            "display": null,
            "flex": null,
            "flex_flow": null,
            "grid_area": null,
            "grid_auto_columns": null,
            "grid_auto_flow": null,
            "grid_auto_rows": null,
            "grid_column": null,
            "grid_gap": null,
            "grid_row": null,
            "grid_template_areas": null,
            "grid_template_columns": null,
            "grid_template_rows": null,
            "height": null,
            "justify_content": null,
            "justify_items": null,
            "left": null,
            "margin": null,
            "max_height": null,
            "max_width": null,
            "min_height": null,
            "min_width": null,
            "object_fit": null,
            "object_position": null,
            "order": null,
            "overflow": null,
            "overflow_x": null,
            "overflow_y": null,
            "padding": null,
            "right": null,
            "top": null,
            "visibility": null,
            "width": null
          }
        },
        "41dcf49809684e589df31a1d067e22f8": {
          "model_module": "@jupyter-widgets/controls",
          "model_name": "ProgressStyleModel",
          "model_module_version": "1.5.0",
          "state": {
            "_model_module": "@jupyter-widgets/controls",
            "_model_module_version": "1.5.0",
            "_model_name": "ProgressStyleModel",
            "_view_count": null,
            "_view_module": "@jupyter-widgets/base",
            "_view_module_version": "1.2.0",
            "_view_name": "StyleView",
            "bar_color": null,
            "description_width": ""
          }
        },
        "19e316f1ff9d412da14562227e8cf260": {
          "model_module": "@jupyter-widgets/base",
          "model_name": "LayoutModel",
          "model_module_version": "1.2.0",
          "state": {
            "_model_module": "@jupyter-widgets/base",
            "_model_module_version": "1.2.0",
            "_model_name": "LayoutModel",
            "_view_count": null,
            "_view_module": "@jupyter-widgets/base",
            "_view_module_version": "1.2.0",
            "_view_name": "LayoutView",
            "align_content": null,
            "align_items": null,
            "align_self": null,
            "border": null,
            "bottom": null,
            "display": null,
            "flex": null,
            "flex_flow": null,
            "grid_area": null,
            "grid_auto_columns": null,
            "grid_auto_flow": null,
            "grid_auto_rows": null,
            "grid_column": null,
            "grid_gap": null,
            "grid_row": null,
            "grid_template_areas": null,
            "grid_template_columns": null,
            "grid_template_rows": null,
            "height": null,
            "justify_content": null,
            "justify_items": null,
            "left": null,
            "margin": null,
            "max_height": null,
            "max_width": null,
            "min_height": null,
            "min_width": null,
            "object_fit": null,
            "object_position": null,
            "order": null,
            "overflow": null,
            "overflow_x": null,
            "overflow_y": null,
            "padding": null,
            "right": null,
            "top": null,
            "visibility": null,
            "width": null
          }
        },
        "2d792ad7b5a545dd8c6ec933c2157c68": {
          "model_module": "@jupyter-widgets/controls",
          "model_name": "DescriptionStyleModel",
          "model_module_version": "1.5.0",
          "state": {
            "_model_module": "@jupyter-widgets/controls",
            "_model_module_version": "1.5.0",
            "_model_name": "DescriptionStyleModel",
            "_view_count": null,
            "_view_module": "@jupyter-widgets/base",
            "_view_module_version": "1.2.0",
            "_view_name": "StyleView",
            "description_width": ""
          }
        },
        "b308e9ab534c4e5d8ba945066e4f8824": {
          "model_module": "@jupyter-widgets/controls",
          "model_name": "HBoxModel",
          "model_module_version": "1.5.0",
          "state": {
            "_dom_classes": [],
            "_model_module": "@jupyter-widgets/controls",
            "_model_module_version": "1.5.0",
            "_model_name": "HBoxModel",
            "_view_count": null,
            "_view_module": "@jupyter-widgets/controls",
            "_view_module_version": "1.5.0",
            "_view_name": "HBoxView",
            "box_style": "",
            "children": [
              "IPY_MODEL_3ddaeadcf2be4a1387f93eeaae6dbbca",
              "IPY_MODEL_2d50a115f35f4ddf9d083355ceec0a54",
              "IPY_MODEL_c4715ef3c0d44120894d166059115c4c"
            ],
            "layout": "IPY_MODEL_c5946513349c4e33863a6e090bc9b17d"
          }
        },
        "3ddaeadcf2be4a1387f93eeaae6dbbca": {
          "model_module": "@jupyter-widgets/controls",
          "model_name": "HTMLModel",
          "model_module_version": "1.5.0",
          "state": {
            "_dom_classes": [],
            "_model_module": "@jupyter-widgets/controls",
            "_model_module_version": "1.5.0",
            "_model_name": "HTMLModel",
            "_view_count": null,
            "_view_module": "@jupyter-widgets/controls",
            "_view_module_version": "1.5.0",
            "_view_name": "HTMLView",
            "description": "",
            "description_tooltip": null,
            "layout": "IPY_MODEL_f4e5b7d9deb34d11b87f02fb3f9992a8",
            "placeholder": "​",
            "style": "IPY_MODEL_e2453ee329f14db2ba869ba51a92b83e",
            "value": "model.safetensors: 100%"
          }
        },
        "2d50a115f35f4ddf9d083355ceec0a54": {
          "model_module": "@jupyter-widgets/controls",
          "model_name": "FloatProgressModel",
          "model_module_version": "1.5.0",
          "state": {
            "_dom_classes": [],
            "_model_module": "@jupyter-widgets/controls",
            "_model_module_version": "1.5.0",
            "_model_name": "FloatProgressModel",
            "_view_count": null,
            "_view_module": "@jupyter-widgets/controls",
            "_view_module_version": "1.5.0",
            "_view_name": "ProgressView",
            "bar_style": "success",
            "description": "",
            "description_tooltip": null,
            "layout": "IPY_MODEL_40803f2b2683454698e146737cdf0da6",
            "max": 440449768,
            "min": 0,
            "orientation": "horizontal",
            "style": "IPY_MODEL_dfc0a3da9cfc46e1816549fa3ce06570",
            "value": 440449768
          }
        },
        "c4715ef3c0d44120894d166059115c4c": {
          "model_module": "@jupyter-widgets/controls",
          "model_name": "HTMLModel",
          "model_module_version": "1.5.0",
          "state": {
            "_dom_classes": [],
            "_model_module": "@jupyter-widgets/controls",
            "_model_module_version": "1.5.0",
            "_model_name": "HTMLModel",
            "_view_count": null,
            "_view_module": "@jupyter-widgets/controls",
            "_view_module_version": "1.5.0",
            "_view_name": "HTMLView",
            "description": "",
            "description_tooltip": null,
            "layout": "IPY_MODEL_2dd26bd28ea24cc2b3051f803441c3fe",
            "placeholder": "​",
            "style": "IPY_MODEL_144ed2bd39fd4be3b8c02761747f6491",
            "value": " 440M/440M [00:06&lt;00:00, 53.2MB/s]"
          }
        },
        "c5946513349c4e33863a6e090bc9b17d": {
          "model_module": "@jupyter-widgets/base",
          "model_name": "LayoutModel",
          "model_module_version": "1.2.0",
          "state": {
            "_model_module": "@jupyter-widgets/base",
            "_model_module_version": "1.2.0",
            "_model_name": "LayoutModel",
            "_view_count": null,
            "_view_module": "@jupyter-widgets/base",
            "_view_module_version": "1.2.0",
            "_view_name": "LayoutView",
            "align_content": null,
            "align_items": null,
            "align_self": null,
            "border": null,
            "bottom": null,
            "display": null,
            "flex": null,
            "flex_flow": null,
            "grid_area": null,
            "grid_auto_columns": null,
            "grid_auto_flow": null,
            "grid_auto_rows": null,
            "grid_column": null,
            "grid_gap": null,
            "grid_row": null,
            "grid_template_areas": null,
            "grid_template_columns": null,
            "grid_template_rows": null,
            "height": null,
            "justify_content": null,
            "justify_items": null,
            "left": null,
            "margin": null,
            "max_height": null,
            "max_width": null,
            "min_height": null,
            "min_width": null,
            "object_fit": null,
            "object_position": null,
            "order": null,
            "overflow": null,
            "overflow_x": null,
            "overflow_y": null,
            "padding": null,
            "right": null,
            "top": null,
            "visibility": null,
            "width": null
          }
        },
        "f4e5b7d9deb34d11b87f02fb3f9992a8": {
          "model_module": "@jupyter-widgets/base",
          "model_name": "LayoutModel",
          "model_module_version": "1.2.0",
          "state": {
            "_model_module": "@jupyter-widgets/base",
            "_model_module_version": "1.2.0",
            "_model_name": "LayoutModel",
            "_view_count": null,
            "_view_module": "@jupyter-widgets/base",
            "_view_module_version": "1.2.0",
            "_view_name": "LayoutView",
            "align_content": null,
            "align_items": null,
            "align_self": null,
            "border": null,
            "bottom": null,
            "display": null,
            "flex": null,
            "flex_flow": null,
            "grid_area": null,
            "grid_auto_columns": null,
            "grid_auto_flow": null,
            "grid_auto_rows": null,
            "grid_column": null,
            "grid_gap": null,
            "grid_row": null,
            "grid_template_areas": null,
            "grid_template_columns": null,
            "grid_template_rows": null,
            "height": null,
            "justify_content": null,
            "justify_items": null,
            "left": null,
            "margin": null,
            "max_height": null,
            "max_width": null,
            "min_height": null,
            "min_width": null,
            "object_fit": null,
            "object_position": null,
            "order": null,
            "overflow": null,
            "overflow_x": null,
            "overflow_y": null,
            "padding": null,
            "right": null,
            "top": null,
            "visibility": null,
            "width": null
          }
        },
        "e2453ee329f14db2ba869ba51a92b83e": {
          "model_module": "@jupyter-widgets/controls",
          "model_name": "DescriptionStyleModel",
          "model_module_version": "1.5.0",
          "state": {
            "_model_module": "@jupyter-widgets/controls",
            "_model_module_version": "1.5.0",
            "_model_name": "DescriptionStyleModel",
            "_view_count": null,
            "_view_module": "@jupyter-widgets/base",
            "_view_module_version": "1.2.0",
            "_view_name": "StyleView",
            "description_width": ""
          }
        },
        "40803f2b2683454698e146737cdf0da6": {
          "model_module": "@jupyter-widgets/base",
          "model_name": "LayoutModel",
          "model_module_version": "1.2.0",
          "state": {
            "_model_module": "@jupyter-widgets/base",
            "_model_module_version": "1.2.0",
            "_model_name": "LayoutModel",
            "_view_count": null,
            "_view_module": "@jupyter-widgets/base",
            "_view_module_version": "1.2.0",
            "_view_name": "LayoutView",
            "align_content": null,
            "align_items": null,
            "align_self": null,
            "border": null,
            "bottom": null,
            "display": null,
            "flex": null,
            "flex_flow": null,
            "grid_area": null,
            "grid_auto_columns": null,
            "grid_auto_flow": null,
            "grid_auto_rows": null,
            "grid_column": null,
            "grid_gap": null,
            "grid_row": null,
            "grid_template_areas": null,
            "grid_template_columns": null,
            "grid_template_rows": null,
            "height": null,
            "justify_content": null,
            "justify_items": null,
            "left": null,
            "margin": null,
            "max_height": null,
            "max_width": null,
            "min_height": null,
            "min_width": null,
            "object_fit": null,
            "object_position": null,
            "order": null,
            "overflow": null,
            "overflow_x": null,
            "overflow_y": null,
            "padding": null,
            "right": null,
            "top": null,
            "visibility": null,
            "width": null
          }
        },
        "dfc0a3da9cfc46e1816549fa3ce06570": {
          "model_module": "@jupyter-widgets/controls",
          "model_name": "ProgressStyleModel",
          "model_module_version": "1.5.0",
          "state": {
            "_model_module": "@jupyter-widgets/controls",
            "_model_module_version": "1.5.0",
            "_model_name": "ProgressStyleModel",
            "_view_count": null,
            "_view_module": "@jupyter-widgets/base",
            "_view_module_version": "1.2.0",
            "_view_name": "StyleView",
            "bar_color": null,
            "description_width": ""
          }
        },
        "2dd26bd28ea24cc2b3051f803441c3fe": {
          "model_module": "@jupyter-widgets/base",
          "model_name": "LayoutModel",
          "model_module_version": "1.2.0",
          "state": {
            "_model_module": "@jupyter-widgets/base",
            "_model_module_version": "1.2.0",
            "_model_name": "LayoutModel",
            "_view_count": null,
            "_view_module": "@jupyter-widgets/base",
            "_view_module_version": "1.2.0",
            "_view_name": "LayoutView",
            "align_content": null,
            "align_items": null,
            "align_self": null,
            "border": null,
            "bottom": null,
            "display": null,
            "flex": null,
            "flex_flow": null,
            "grid_area": null,
            "grid_auto_columns": null,
            "grid_auto_flow": null,
            "grid_auto_rows": null,
            "grid_column": null,
            "grid_gap": null,
            "grid_row": null,
            "grid_template_areas": null,
            "grid_template_columns": null,
            "grid_template_rows": null,
            "height": null,
            "justify_content": null,
            "justify_items": null,
            "left": null,
            "margin": null,
            "max_height": null,
            "max_width": null,
            "min_height": null,
            "min_width": null,
            "object_fit": null,
            "object_position": null,
            "order": null,
            "overflow": null,
            "overflow_x": null,
            "overflow_y": null,
            "padding": null,
            "right": null,
            "top": null,
            "visibility": null,
            "width": null
          }
        },
        "144ed2bd39fd4be3b8c02761747f6491": {
          "model_module": "@jupyter-widgets/controls",
          "model_name": "DescriptionStyleModel",
          "model_module_version": "1.5.0",
          "state": {
            "_model_module": "@jupyter-widgets/controls",
            "_model_module_version": "1.5.0",
            "_model_name": "DescriptionStyleModel",
            "_view_count": null,
            "_view_module": "@jupyter-widgets/base",
            "_view_module_version": "1.2.0",
            "_view_name": "StyleView",
            "description_width": ""
          }
        }
      }
    },
    "accelerator": "GPU"
  },
  "nbformat_minor": 0,
  "nbformat": 4,
  "cells": [
    {
      "cell_type": "code",
      "source": [
        "!pip install gensim"
      ],
      "metadata": {
        "id": "lmggFBjT9pRh"
      },
      "execution_count": null,
      "outputs": []
    },
    {
      "source": [
        "!pip install kaggle\n",
        "\n",
        "# Replace with your actual Kaggle API key and username\n",
        "import os\n",
        "os.environ['KAGGLE_USERNAME'] = \"YOUR_KAGGLE_USERNAME\"\n",
        "os.environ['KAGGLE_KEY'] = \"YOUR_KAGGLE_KEY\"\n",
        "\n",
        "!kaggle datasets download -d yasserh/twitter-tweets-sentiment-dataset\n",
        "\n",
        "!unzip twitter-tweets-sentiment-dataset.zip\n",
        "\n",
        "!rm twitter-tweets-sentiment-dataset.zip\n",
        "\n",
        "print('Data source import complete.')"
      ],
      "metadata": {
        "colab": {
          "base_uri": "https://localhost:8080/"
        },
        "id": "J4yuPtya1twq",
        "outputId": "2f0f4c8f-c43d-48ac-e779-267f9e59f051"
      },
      "cell_type": "code",
      "outputs": [
        {
          "output_type": "stream",
          "name": "stdout",
          "text": [
            "Requirement already satisfied: kaggle in /usr/local/lib/python3.12/dist-packages (1.7.4.5)\n",
            "Requirement already satisfied: bleach in /usr/local/lib/python3.12/dist-packages (from kaggle) (6.2.0)\n",
            "Requirement already satisfied: certifi>=14.05.14 in /usr/local/lib/python3.12/dist-packages (from kaggle) (2025.10.5)\n",
            "Requirement already satisfied: charset-normalizer in /usr/local/lib/python3.12/dist-packages (from kaggle) (3.4.3)\n",
            "Requirement already satisfied: idna in /usr/local/lib/python3.12/dist-packages (from kaggle) (3.10)\n",
            "Requirement already satisfied: protobuf in /usr/local/lib/python3.12/dist-packages (from kaggle) (5.29.5)\n",
            "Requirement already satisfied: python-dateutil>=2.5.3 in /usr/local/lib/python3.12/dist-packages (from kaggle) (2.9.0.post0)\n",
            "Requirement already satisfied: python-slugify in /usr/local/lib/python3.12/dist-packages (from kaggle) (8.0.4)\n",
            "Requirement already satisfied: requests in /usr/local/lib/python3.12/dist-packages (from kaggle) (2.32.4)\n",
            "Requirement already satisfied: setuptools>=21.0.0 in /usr/local/lib/python3.12/dist-packages (from kaggle) (75.2.0)\n",
            "Requirement already satisfied: six>=1.10 in /usr/local/lib/python3.12/dist-packages (from kaggle) (1.17.0)\n",
            "Requirement already satisfied: text-unidecode in /usr/local/lib/python3.12/dist-packages (from kaggle) (1.3)\n",
            "Requirement already satisfied: tqdm in /usr/local/lib/python3.12/dist-packages (from kaggle) (4.67.1)\n",
            "Requirement already satisfied: urllib3>=1.15.1 in /usr/local/lib/python3.12/dist-packages (from kaggle) (2.5.0)\n",
            "Requirement already satisfied: webencodings in /usr/local/lib/python3.12/dist-packages (from kaggle) (0.5.1)\n",
            "Dataset URL: https://www.kaggle.com/datasets/yasserh/twitter-tweets-sentiment-dataset\n",
            "License(s): CC0-1.0\n",
            "Downloading twitter-tweets-sentiment-dataset.zip to /content\n",
            "  0% 0.00/1.23M [00:00<?, ?B/s]\n",
            "100% 1.23M/1.23M [00:00<00:00, 649MB/s]\n",
            "Archive:  twitter-tweets-sentiment-dataset.zip\n",
            "  inflating: Tweets.csv              \n",
            "Data source import complete.\n"
          ]
        }
      ],
      "execution_count": null
    },
    {
      "cell_type": "code",
      "source": [
        "# This Python 3 environment comes with many helpful analytics libraries installed\n",
        "# It is defined by the kaggle/python Docker image: https://github.com/kaggle/docker-python\n",
        "# For example, here's several helpful packages to load\n",
        "\n",
        "import numpy as np # linear algebra\n",
        "import pandas as pd # data processing, CSV file I/O (e.g. pd.read_csv)\n",
        "\n",
        "# Input data files are available in the read-only \"../input/\" directory\n",
        "# For example, running this (by clicking run or pressing Shift+Enter) will list all files under the input directory\n",
        "\n",
        "import os\n",
        "for dirname, _, filenames in os.walk('/content'):\n",
        "    for filename in filenames:\n",
        "        print(os.path.join(dirname, filename))\n",
        "\n",
        "# You can write up to 20GB to the current directory (/kaggle/working/) that gets preserved as output when you create a version using \"Save & Run All\"\n",
        "# You can also write temporary files to /kaggle/temp/, but they won't be saved outside of the current session"
      ],
      "metadata": {
        "_uuid": "8f2839f25d086af736a60e9eeb907d3b93b6e0e5",
        "_cell_guid": "b1076dfc-b9ad-4769-8c92-a6c4dae69d19",
        "execution": {
          "iopub.status.busy": "2024-06-18T13:15:04.652466Z",
          "iopub.execute_input": "2024-06-18T13:15:04.653346Z",
          "iopub.status.idle": "2024-06-18T13:15:06.200627Z",
          "shell.execute_reply.started": "2024-06-18T13:15:04.653295Z",
          "shell.execute_reply": "2024-06-18T13:15:06.194892Z"
        },
        "trusted": true,
        "colab": {
          "base_uri": "https://localhost:8080/"
        },
        "id": "81nly2Qn1twr",
        "outputId": "900f7499-1798-4cd6-da2d-45ac643df527"
      },
      "execution_count": null,
      "outputs": [
        {
          "output_type": "stream",
          "name": "stdout",
          "text": [
            "/content/Tweets.csv\n",
            "/content/.config/.last_update_check.json\n",
            "/content/.config/config_sentinel\n",
            "/content/.config/gce\n",
            "/content/.config/default_configs.db\n",
            "/content/.config/hidden_gcloud_config_universe_descriptor_data_cache_configs.db\n",
            "/content/.config/active_config\n",
            "/content/.config/.last_opt_in_prompt.yaml\n",
            "/content/.config/.last_survey_prompt.yaml\n",
            "/content/.config/configurations/config_default\n",
            "/content/.config/logs/2025.10.14/13.41.03.585119.log\n",
            "/content/.config/logs/2025.10.14/13.40.54.132300.log\n",
            "/content/.config/logs/2025.10.14/13.41.19.120738.log\n",
            "/content/.config/logs/2025.10.14/13.41.19.907632.log\n",
            "/content/.config/logs/2025.10.14/13.41.09.714237.log\n",
            "/content/.config/logs/2025.10.14/13.40.24.332480.log\n",
            "/content/sample_data/README.md\n",
            "/content/sample_data/anscombe.json\n",
            "/content/sample_data/mnist_train_small.csv\n",
            "/content/sample_data/mnist_test.csv\n",
            "/content/sample_data/california_housing_test.csv\n",
            "/content/sample_data/california_housing_train.csv\n"
          ]
        }
      ]
    },
    {
      "cell_type": "markdown",
      "source": [
        "**Problem Statement**\n",
        "\n",
        "In the age of social media, understanding public sentiment is crucial for businesses, policymakers, and researchers. Twitter, being one of the most popular social media platforms, generates a vast amount of textual data daily. This notebook aims to analyze the sentiment expressed in Twitter tweets. By leveraging natural language processing (NLP) and machine learning techniques, I seek to classify tweets into different sentiment categories, thereby providing insights into public opinion on various topics.\n",
        "\n",
        "**Goals**\n",
        "\n",
        "The primary goal of this notebook is to develop a machine learning model for sentiment analysis of Twitter tweets. Initially, I will conduct data exploration and cleaning to understand the distribution of sentiments in the dataset and prepare the tweet texts for analysis. This will involve cleaning and preprocessing the text data. Next, I will focus on feature engineering by transforming the textual data into numerical representations using techniques like TF-IDF or word embeddings.\n",
        "\n",
        "Following this, I will build and train various machine learning models to classify the sentiments of tweets, compare the performance of different models and select the best-performing one. The evaluation phase will involve assessing the models using appropriate metrics such as accuracy, precision, recall, and F1 score to understand their strengths and weaknesses.\n",
        "\n",
        "Finally, I will summarize the findings, providing insights into the sentiment trends observed in the dataset. I will also discuss the potential applications of the sentiment analysis model and suggest areas for future work. The ultimate objective is to enable more effective decision-making and strategy development based on the analysis of public sentiment expressed in tweets.\n",
        "\n",
        "**Selected Machine Learning Models**\n",
        "\n",
        "For this sentiment analysis notebook, I will utilize BERT (Bidirectional Encoder Representations from Transformers), Logistic Regression, and LSTM (Long Short-Term Memory) using PyTorch. BERT is a state-of-the-art transformer model pre-trained on a large corpus of text. It excels at capturing the context and nuances of language, making it highly effective for text classification tasks such as sentiment analysis. By fine-tuning BERT for sentiment analysis, I can achieve high performance due to its deep understanding of linguistic patterns.\n",
        "\n",
        "Logistic Regression, on the other hand, is a simple and interpretable model that serves well as a baseline for text classification. It allows me to establish a reference point for performance, making it easier to understand the gains achieved by more complex models like BERT. Its simplicity and effectiveness in many text classification tasks make it a reliable choice for initial experimentation and comparison.\n",
        "\n",
        "Long Short-Term Memory (LSTM), a type of recurrent neural network (RNN), is specifically designed for sequential data like text. It captures long-term dependencies and patterns within the text, making it particularly suitable for tasks that require understanding the sequential nature of language. Using PyTorch, I can build and train an LSTM model to classify the sentiment of tweets effectively. This model is widely used in NLP tasks due to its ability to handle varying sequence lengths and retain important information over long text sequences.\n",
        "\n",
        "Together, these models provide a comprehensive approach to sentiment analysis. BERT offers cutting-edge performance with its deep contextual understanding, Logistic Regression provides a solid baseline with interpretability, and LSTM captures the sequential dependencies in text data. These selections allow me to explore different methodologies and compare their effectiveness in sentiment analysis, providing a well-rounded analysis of the task at hand."
      ],
      "metadata": {
        "id": "12JPjxW41twr"
      }
    },
    {
      "cell_type": "code",
      "source": [
        "# Install all necessary libraries and packages\n",
        "import numpy as np\n",
        "import pandas as pd\n",
        "import matplotlib.pyplot as plt\n",
        "import seaborn as sns\n",
        "\n",
        "# Preprocessing and text handling\n",
        "import re\n",
        "import nltk\n",
        "from nltk.corpus import stopwords\n",
        "from nltk.tokenize import word_tokenize\n",
        "from nltk.stem import PorterStemmer\n",
        "from sklearn.feature_extraction.text import TfidfVectorizer\n",
        "from sklearn.model_selection import train_test_split\n",
        "from sklearn.preprocessing import LabelEncoder\n",
        "from collections import Counter\n",
        "\n",
        "# Machine learning models\n",
        "from sklearn.linear_model import LogisticRegression\n",
        "from sklearn.metrics import accuracy_score, precision_score, recall_score, f1_score, confusion_matrix, classification_report\n",
        "\n",
        "# Deep Learning libraries (PyTorch)\n",
        "import torch\n",
        "import torch.nn as nn\n",
        "import torch.optim as optim\n",
        "from torch.utils.data import DataLoader, TensorDataset, RandomSampler, SequentialSampler\n",
        "\n",
        "# Transformers for BERT\n",
        "from transformers import BertTokenizer, BertForSequenceClassification, Trainer, TrainingArguments, DataCollatorWithPadding\n",
        "from datasets import Dataset\n",
        "\n",
        "# Word Embeddings\n",
        "import gensim\n",
        "\n",
        "# NLTK resources\n",
        "nltk.download('stopwords')\n",
        "nltk.download('punkt')\n",
        "\n",
        "# Warnings\n",
        "import warnings\n",
        "warnings.filterwarnings('ignore')\n",
        "\n",
        "# Visualization Settings\n",
        "sns.set(style='whitegrid')\n",
        "\n",
        "# Setting device\n",
        "device = torch.device('cuda' if torch.cuda.is_available() else 'cpu')"
      ],
      "metadata": {
        "execution": {
          "iopub.status.busy": "2024-06-18T18:03:08.679076Z",
          "iopub.execute_input": "2024-06-18T18:03:08.679566Z",
          "iopub.status.idle": "2024-06-18T18:03:08.900386Z",
          "shell.execute_reply.started": "2024-06-18T18:03:08.679528Z",
          "shell.execute_reply": "2024-06-18T18:03:08.899045Z"
        },
        "trusted": true,
        "colab": {
          "base_uri": "https://localhost:8080/"
        },
        "id": "PTd7jirF1tws",
        "outputId": "dccbec0a-bdf8-47e1-9667-1a74b5a7ee11"
      },
      "execution_count": null,
      "outputs": [
        {
          "output_type": "stream",
          "name": "stderr",
          "text": [
            "[nltk_data] Downloading package stopwords to /root/nltk_data...\n",
            "[nltk_data]   Unzipping corpora/stopwords.zip.\n",
            "[nltk_data] Downloading package punkt to /root/nltk_data...\n",
            "[nltk_data]   Unzipping tokenizers/punkt.zip.\n"
          ]
        }
      ]
    },
    {
      "cell_type": "code",
      "source": [
        "# Load in the dataset\n",
        "df= pd.read_csv('/content/Tweets.csv')"
      ],
      "metadata": {
        "execution": {
          "iopub.status.busy": "2024-06-18T13:18:58.249632Z",
          "iopub.execute_input": "2024-06-18T13:18:58.250074Z",
          "iopub.status.idle": "2024-06-18T13:18:58.359902Z",
          "shell.execute_reply.started": "2024-06-18T13:18:58.250044Z",
          "shell.execute_reply": "2024-06-18T13:18:58.358785Z"
        },
        "trusted": true,
        "id": "WdYwpATv1twt"
      },
      "execution_count": null,
      "outputs": []
    },
    {
      "cell_type": "code",
      "source": [
        "# View the data\n",
        "print(df.head())"
      ],
      "metadata": {
        "execution": {
          "iopub.status.busy": "2024-06-18T13:19:01.049662Z",
          "iopub.execute_input": "2024-06-18T13:19:01.05011Z",
          "iopub.status.idle": "2024-06-18T13:19:01.059935Z",
          "shell.execute_reply.started": "2024-06-18T13:19:01.050078Z",
          "shell.execute_reply": "2024-06-18T13:19:01.058407Z"
        },
        "trusted": true,
        "colab": {
          "base_uri": "https://localhost:8080/"
        },
        "id": "itQxC81_1twu",
        "outputId": "a4b9448f-b81b-410d-9e79-9131d58984ef"
      },
      "execution_count": null,
      "outputs": [
        {
          "output_type": "stream",
          "name": "stdout",
          "text": [
            "       textID                                               text  \\\n",
            "0  cb774db0d1                I`d have responded, if I were going   \n",
            "1  549e992a42      Sooo SAD I will miss you here in San Diego!!!   \n",
            "2  088c60f138                          my boss is bullying me...   \n",
            "3  9642c003ef                     what interview! leave me alone   \n",
            "4  358bd9e861   Sons of ****, why couldn`t they put them on t...   \n",
            "\n",
            "                         selected_text sentiment  \n",
            "0  I`d have responded, if I were going   neutral  \n",
            "1                             Sooo SAD  negative  \n",
            "2                          bullying me  negative  \n",
            "3                       leave me alone  negative  \n",
            "4                        Sons of ****,  negative  \n"
          ]
        }
      ]
    },
    {
      "cell_type": "code",
      "source": [
        "# Check the shape\n",
        "print(df.shape)"
      ],
      "metadata": {
        "execution": {
          "iopub.status.busy": "2024-06-18T13:19:13.603161Z",
          "iopub.execute_input": "2024-06-18T13:19:13.603595Z",
          "iopub.status.idle": "2024-06-18T13:19:13.609582Z",
          "shell.execute_reply.started": "2024-06-18T13:19:13.603561Z",
          "shell.execute_reply": "2024-06-18T13:19:13.608351Z"
        },
        "trusted": true,
        "colab": {
          "base_uri": "https://localhost:8080/"
        },
        "id": "Ll5TW2Vp1twu",
        "outputId": "e881a586-f4de-493a-944e-f994e810783f"
      },
      "execution_count": null,
      "outputs": [
        {
          "output_type": "stream",
          "name": "stdout",
          "text": [
            "(27481, 4)\n"
          ]
        }
      ]
    },
    {
      "cell_type": "code",
      "source": [
        "# Explore the data types\n",
        "print(df.dtypes)"
      ],
      "metadata": {
        "execution": {
          "iopub.status.busy": "2024-06-18T13:19:25.013087Z",
          "iopub.execute_input": "2024-06-18T13:19:25.013509Z",
          "iopub.status.idle": "2024-06-18T13:19:25.021003Z",
          "shell.execute_reply.started": "2024-06-18T13:19:25.013476Z",
          "shell.execute_reply": "2024-06-18T13:19:25.019657Z"
        },
        "trusted": true,
        "colab": {
          "base_uri": "https://localhost:8080/"
        },
        "id": "VRfZdhj31twv",
        "outputId": "e5743c9c-2ad6-4bf4-9726-ee26a8c45c6e"
      },
      "execution_count": null,
      "outputs": [
        {
          "output_type": "stream",
          "name": "stdout",
          "text": [
            "textID           object\n",
            "text             object\n",
            "selected_text    object\n",
            "sentiment        object\n",
            "dtype: object\n"
          ]
        }
      ]
    },
    {
      "cell_type": "code",
      "source": [
        "# Check for missing values and drop them\n",
        "print(df.isnull().sum())\n",
        "df = df.dropna()\n",
        "print(df.isnull().sum())"
      ],
      "metadata": {
        "execution": {
          "iopub.status.busy": "2024-06-18T13:19:39.0523Z",
          "iopub.execute_input": "2024-06-18T13:19:39.053556Z",
          "iopub.status.idle": "2024-06-18T13:19:39.110364Z",
          "shell.execute_reply.started": "2024-06-18T13:19:39.053516Z",
          "shell.execute_reply": "2024-06-18T13:19:39.108965Z"
        },
        "trusted": true,
        "colab": {
          "base_uri": "https://localhost:8080/"
        },
        "id": "RC8cX8qm1twv",
        "outputId": "f37ebd9c-beb6-4f5d-8d0b-aac52349211e"
      },
      "execution_count": null,
      "outputs": [
        {
          "output_type": "stream",
          "name": "stdout",
          "text": [
            "textID           0\n",
            "text             1\n",
            "selected_text    1\n",
            "sentiment        0\n",
            "dtype: int64\n",
            "textID           0\n",
            "text             0\n",
            "selected_text    0\n",
            "sentiment        0\n",
            "dtype: int64\n"
          ]
        }
      ]
    },
    {
      "cell_type": "markdown",
      "source": [
        "**Cleaning and Preprocessing the Text Data**\n",
        "\n",
        "Text data often contains various elements that are not useful for analysis. In the next code block, I will create a function to clean and preprocess the text which will include the following techniques:\n",
        "\n",
        "* Removing HTML tags, URLs, mentions and other unwanted elements\n",
        "* Converting text to lowercase, which helps to ensure consistent tokenization and feature representation\n",
        "* Tokenize the text into words, which is the process of splitting the text into individual words or tokens\n",
        "* Remove stopwords. Stopwords are common words that don't really carry any meaning such as \"the\", \"is\" and \"a\" for example.\n",
        "* Perform Stemming, which is a technique used to reduce words to their root form.\n",
        "\n",
        "Let's proceed."
      ],
      "metadata": {
        "id": "3C94Q4do1tww"
      }
    },
    {
      "cell_type": "code",
      "source": [
        "# Define a function to clean and preprocess the text\n",
        "def preprocess_text(text):\n",
        "    # Remove HTML tags and URLs\n",
        "    text = re.sub(r'<.*?>|http\\S+', '', text)\n",
        "    # Convert text to lower case\n",
        "    text = text.lower()\n",
        "    # Tokenize the text\n",
        "    tokens = word_tokenize(text)\n",
        "    # Remove stopwords\n",
        "    stop_words = set(stopwords.words('english'))\n",
        "    tokens = [word for word in tokens if word not in stop_words]\n",
        "    # Perform stemming\n",
        "    stemmer = PorterStemmer()\n",
        "    tokens = [stemmer.stem(word) for word in tokens]\n",
        "    # Join the tokens back into a single string\n",
        "    cleaned_text = ' '.join(tokens)\n",
        "    return cleaned_text\n",
        "\n",
        "nltk.download('punkt_tab') # Download the missing resource\n",
        "\n",
        "# Apply preprocessing function to text column\n",
        "df['cleaned_text'] = df['text'].apply(preprocess_text)"
      ],
      "metadata": {
        "execution": {
          "iopub.status.busy": "2024-06-18T13:22:07.812406Z",
          "iopub.execute_input": "2024-06-18T13:22:07.813428Z",
          "iopub.status.idle": "2024-06-18T13:22:30.659017Z",
          "shell.execute_reply.started": "2024-06-18T13:22:07.813384Z",
          "shell.execute_reply": "2024-06-18T13:22:30.657626Z"
        },
        "trusted": true,
        "colab": {
          "base_uri": "https://localhost:8080/"
        },
        "id": "OaQN5FbW1tww",
        "outputId": "4e29c6ad-484f-43b6-aa22-804b58612489"
      },
      "execution_count": null,
      "outputs": [
        {
          "output_type": "stream",
          "name": "stderr",
          "text": [
            "[nltk_data] Downloading package punkt_tab to /root/nltk_data...\n",
            "[nltk_data]   Unzipping tokenizers/punkt_tab.zip.\n"
          ]
        }
      ]
    },
    {
      "cell_type": "markdown",
      "source": [
        "**Feature Engineering**\n",
        "\n",
        "Now, I will proceed to perform feature engineering, which is the process of transforming raw data into features that can be used by machine learning models for training and prediction. In the case of text data, I need to transform the text into a numerical format that can be understood by the models. In this notebook, I will explore two common approaches: TF-IDF Vectorization and Word Embeddings.\n",
        "\n",
        "**TF-IDF Vectorization**\n",
        "\n",
        "TF-IDF (Term Frequency-Inverse Document Frequency) is a technique that represents text data as a vector of term weights. It considers both the frequency of a term in a document and the inverse frequency of the term across the entire corpus. This helps to capture the importance of each term in the context of the specific document and the overall corpus.\n",
        "\n",
        "**Word Embeddings**\n",
        "\n",
        "Word Embeddings are dense vectorization of words, where words with similar meanings are mapped to similar vectors in the embedding space. These embeddings capture semantic and contextual information, making them useful for various NLP tasks, including sentiment analysis. One very popular method for obtaining word embeddings is Word2Vec, which is what I will be using."
      ],
      "metadata": {
        "id": "PaTY_iZl1twx"
      }
    },
    {
      "cell_type": "code",
      "source": [
        "# TF-IDF Vectorization\n",
        "tfidf_vectorizer = TfidfVectorizer()\n",
        "tfidf_vectors = tfidf_vectorizer.fit_transform(df['cleaned_text'])\n",
        "\n",
        "# Word Embeddings using Word2Vec\n",
        "tokenized_texts = [text.split() for text in df['cleaned_text']]\n",
        "word2vec_model = gensim.models.Word2Vec(tokenized_texts, vector_size=100, window=5, min_count=1, workers=4)"
      ],
      "metadata": {
        "execution": {
          "iopub.status.busy": "2024-06-18T13:27:01.946183Z",
          "iopub.execute_input": "2024-06-18T13:27:01.946705Z",
          "iopub.status.idle": "2024-06-18T13:27:05.261976Z",
          "shell.execute_reply.started": "2024-06-18T13:27:01.946665Z",
          "shell.execute_reply": "2024-06-18T13:27:05.260711Z"
        },
        "trusted": true,
        "id": "xotb3QY81twx"
      },
      "execution_count": null,
      "outputs": []
    },
    {
      "cell_type": "markdown",
      "source": [
        "**Model Building and Training**\n",
        "\n",
        "Now that the text data is represented as numerical features (TF-IDF vectors and word embeddings), I can start building and training the machine learning models for sentiment analysis. I will begin with Logistic Regression. Then, I will proceed with the BERT (Bidirectional Encoder Representations from Transformers) model. And finally, I will build the LSTM (Long Short-Term Memory) Neural Network."
      ],
      "metadata": {
        "id": "Z2SUeIEZ1twy"
      }
    },
    {
      "cell_type": "code",
      "source": [
        "# Split the data into training and test sets for the Logistic Regression model\n",
        "X_train, X_test, y_train, y_test = train_test_split(tfidf_vectors, df['sentiment'], test_size=0.2, random_state=42)"
      ],
      "metadata": {
        "execution": {
          "iopub.status.busy": "2024-06-18T13:27:45.333642Z",
          "iopub.execute_input": "2024-06-18T13:27:45.334063Z",
          "iopub.status.idle": "2024-06-18T13:27:45.351864Z",
          "shell.execute_reply.started": "2024-06-18T13:27:45.33403Z",
          "shell.execute_reply": "2024-06-18T13:27:45.350813Z"
        },
        "trusted": true,
        "id": "ACxQxuig1twy"
      },
      "execution_count": null,
      "outputs": []
    },
    {
      "cell_type": "code",
      "source": [
        "# Train and fit the Logistic Regression model\n",
        "lr_model = LogisticRegression()\n",
        "lr_model.fit(X_train, y_train)"
      ],
      "metadata": {
        "execution": {
          "iopub.status.busy": "2024-06-18T13:27:59.813632Z",
          "iopub.execute_input": "2024-06-18T13:27:59.814156Z",
          "iopub.status.idle": "2024-06-18T13:28:05.136273Z",
          "shell.execute_reply.started": "2024-06-18T13:27:59.814112Z",
          "shell.execute_reply": "2024-06-18T13:28:05.13499Z"
        },
        "trusted": true,
        "colab": {
          "base_uri": "https://localhost:8080/",
          "height": 80
        },
        "id": "cFp3UAd-1tw2",
        "outputId": "8a14d131-99a8-4737-9d6d-86b009f25439"
      },
      "execution_count": null,
      "outputs": [
        {
          "output_type": "execute_result",
          "data": {
            "text/plain": [
              "LogisticRegression()"
            ],
            "text/html": [
              "<style>#sk-container-id-1 {\n",
              "  /* Definition of color scheme common for light and dark mode */\n",
              "  --sklearn-color-text: #000;\n",
              "  --sklearn-color-text-muted: #666;\n",
              "  --sklearn-color-line: gray;\n",
              "  /* Definition of color scheme for unfitted estimators */\n",
              "  --sklearn-color-unfitted-level-0: #fff5e6;\n",
              "  --sklearn-color-unfitted-level-1: #f6e4d2;\n",
              "  --sklearn-color-unfitted-level-2: #ffe0b3;\n",
              "  --sklearn-color-unfitted-level-3: chocolate;\n",
              "  /* Definition of color scheme for fitted estimators */\n",
              "  --sklearn-color-fitted-level-0: #f0f8ff;\n",
              "  --sklearn-color-fitted-level-1: #d4ebff;\n",
              "  --sklearn-color-fitted-level-2: #b3dbfd;\n",
              "  --sklearn-color-fitted-level-3: cornflowerblue;\n",
              "\n",
              "  /* Specific color for light theme */\n",
              "  --sklearn-color-text-on-default-background: var(--sg-text-color, var(--theme-code-foreground, var(--jp-content-font-color1, black)));\n",
              "  --sklearn-color-background: var(--sg-background-color, var(--theme-background, var(--jp-layout-color0, white)));\n",
              "  --sklearn-color-border-box: var(--sg-text-color, var(--theme-code-foreground, var(--jp-content-font-color1, black)));\n",
              "  --sklearn-color-icon: #696969;\n",
              "\n",
              "  @media (prefers-color-scheme: dark) {\n",
              "    /* Redefinition of color scheme for dark theme */\n",
              "    --sklearn-color-text-on-default-background: var(--sg-text-color, var(--theme-code-foreground, var(--jp-content-font-color1, white)));\n",
              "    --sklearn-color-background: var(--sg-background-color, var(--theme-background, var(--jp-layout-color0, #111)));\n",
              "    --sklearn-color-border-box: var(--sg-text-color, var(--theme-code-foreground, var(--jp-content-font-color1, white)));\n",
              "    --sklearn-color-icon: #878787;\n",
              "  }\n",
              "}\n",
              "\n",
              "#sk-container-id-1 {\n",
              "  color: var(--sklearn-color-text);\n",
              "}\n",
              "\n",
              "#sk-container-id-1 pre {\n",
              "  padding: 0;\n",
              "}\n",
              "\n",
              "#sk-container-id-1 input.sk-hidden--visually {\n",
              "  border: 0;\n",
              "  clip: rect(1px 1px 1px 1px);\n",
              "  clip: rect(1px, 1px, 1px, 1px);\n",
              "  height: 1px;\n",
              "  margin: -1px;\n",
              "  overflow: hidden;\n",
              "  padding: 0;\n",
              "  position: absolute;\n",
              "  width: 1px;\n",
              "}\n",
              "\n",
              "#sk-container-id-1 div.sk-dashed-wrapped {\n",
              "  border: 1px dashed var(--sklearn-color-line);\n",
              "  margin: 0 0.4em 0.5em 0.4em;\n",
              "  box-sizing: border-box;\n",
              "  padding-bottom: 0.4em;\n",
              "  background-color: var(--sklearn-color-background);\n",
              "}\n",
              "\n",
              "#sk-container-id-1 div.sk-container {\n",
              "  /* jupyter's `normalize.less` sets `[hidden] { display: none; }`\n",
              "     but bootstrap.min.css set `[hidden] { display: none !important; }`\n",
              "     so we also need the `!important` here to be able to override the\n",
              "     default hidden behavior on the sphinx rendered scikit-learn.org.\n",
              "     See: https://github.com/scikit-learn/scikit-learn/issues/21755 */\n",
              "  display: inline-block !important;\n",
              "  position: relative;\n",
              "}\n",
              "\n",
              "#sk-container-id-1 div.sk-text-repr-fallback {\n",
              "  display: none;\n",
              "}\n",
              "\n",
              "div.sk-parallel-item,\n",
              "div.sk-serial,\n",
              "div.sk-item {\n",
              "  /* draw centered vertical line to link estimators */\n",
              "  background-image: linear-gradient(var(--sklearn-color-text-on-default-background), var(--sklearn-color-text-on-default-background));\n",
              "  background-size: 2px 100%;\n",
              "  background-repeat: no-repeat;\n",
              "  background-position: center center;\n",
              "}\n",
              "\n",
              "/* Parallel-specific style estimator block */\n",
              "\n",
              "#sk-container-id-1 div.sk-parallel-item::after {\n",
              "  content: \"\";\n",
              "  width: 100%;\n",
              "  border-bottom: 2px solid var(--sklearn-color-text-on-default-background);\n",
              "  flex-grow: 1;\n",
              "}\n",
              "\n",
              "#sk-container-id-1 div.sk-parallel {\n",
              "  display: flex;\n",
              "  align-items: stretch;\n",
              "  justify-content: center;\n",
              "  background-color: var(--sklearn-color-background);\n",
              "  position: relative;\n",
              "}\n",
              "\n",
              "#sk-container-id-1 div.sk-parallel-item {\n",
              "  display: flex;\n",
              "  flex-direction: column;\n",
              "}\n",
              "\n",
              "#sk-container-id-1 div.sk-parallel-item:first-child::after {\n",
              "  align-self: flex-end;\n",
              "  width: 50%;\n",
              "}\n",
              "\n",
              "#sk-container-id-1 div.sk-parallel-item:last-child::after {\n",
              "  align-self: flex-start;\n",
              "  width: 50%;\n",
              "}\n",
              "\n",
              "#sk-container-id-1 div.sk-parallel-item:only-child::after {\n",
              "  width: 0;\n",
              "}\n",
              "\n",
              "/* Serial-specific style estimator block */\n",
              "\n",
              "#sk-container-id-1 div.sk-serial {\n",
              "  display: flex;\n",
              "  flex-direction: column;\n",
              "  align-items: center;\n",
              "  background-color: var(--sklearn-color-background);\n",
              "  padding-right: 1em;\n",
              "  padding-left: 1em;\n",
              "}\n",
              "\n",
              "\n",
              "/* Toggleable style: style used for estimator/Pipeline/ColumnTransformer box that is\n",
              "clickable and can be expanded/collapsed.\n",
              "- Pipeline and ColumnTransformer use this feature and define the default style\n",
              "- Estimators will overwrite some part of the style using the `sk-estimator` class\n",
              "*/\n",
              "\n",
              "/* Pipeline and ColumnTransformer style (default) */\n",
              "\n",
              "#sk-container-id-1 div.sk-toggleable {\n",
              "  /* Default theme specific background. It is overwritten whether we have a\n",
              "  specific estimator or a Pipeline/ColumnTransformer */\n",
              "  background-color: var(--sklearn-color-background);\n",
              "}\n",
              "\n",
              "/* Toggleable label */\n",
              "#sk-container-id-1 label.sk-toggleable__label {\n",
              "  cursor: pointer;\n",
              "  display: flex;\n",
              "  width: 100%;\n",
              "  margin-bottom: 0;\n",
              "  padding: 0.5em;\n",
              "  box-sizing: border-box;\n",
              "  text-align: center;\n",
              "  align-items: start;\n",
              "  justify-content: space-between;\n",
              "  gap: 0.5em;\n",
              "}\n",
              "\n",
              "#sk-container-id-1 label.sk-toggleable__label .caption {\n",
              "  font-size: 0.6rem;\n",
              "  font-weight: lighter;\n",
              "  color: var(--sklearn-color-text-muted);\n",
              "}\n",
              "\n",
              "#sk-container-id-1 label.sk-toggleable__label-arrow:before {\n",
              "  /* Arrow on the left of the label */\n",
              "  content: \"▸\";\n",
              "  float: left;\n",
              "  margin-right: 0.25em;\n",
              "  color: var(--sklearn-color-icon);\n",
              "}\n",
              "\n",
              "#sk-container-id-1 label.sk-toggleable__label-arrow:hover:before {\n",
              "  color: var(--sklearn-color-text);\n",
              "}\n",
              "\n",
              "/* Toggleable content - dropdown */\n",
              "\n",
              "#sk-container-id-1 div.sk-toggleable__content {\n",
              "  max-height: 0;\n",
              "  max-width: 0;\n",
              "  overflow: hidden;\n",
              "  text-align: left;\n",
              "  /* unfitted */\n",
              "  background-color: var(--sklearn-color-unfitted-level-0);\n",
              "}\n",
              "\n",
              "#sk-container-id-1 div.sk-toggleable__content.fitted {\n",
              "  /* fitted */\n",
              "  background-color: var(--sklearn-color-fitted-level-0);\n",
              "}\n",
              "\n",
              "#sk-container-id-1 div.sk-toggleable__content pre {\n",
              "  margin: 0.2em;\n",
              "  border-radius: 0.25em;\n",
              "  color: var(--sklearn-color-text);\n",
              "  /* unfitted */\n",
              "  background-color: var(--sklearn-color-unfitted-level-0);\n",
              "}\n",
              "\n",
              "#sk-container-id-1 div.sk-toggleable__content.fitted pre {\n",
              "  /* unfitted */\n",
              "  background-color: var(--sklearn-color-fitted-level-0);\n",
              "}\n",
              "\n",
              "#sk-container-id-1 input.sk-toggleable__control:checked~div.sk-toggleable__content {\n",
              "  /* Expand drop-down */\n",
              "  max-height: 200px;\n",
              "  max-width: 100%;\n",
              "  overflow: auto;\n",
              "}\n",
              "\n",
              "#sk-container-id-1 input.sk-toggleable__control:checked~label.sk-toggleable__label-arrow:before {\n",
              "  content: \"▾\";\n",
              "}\n",
              "\n",
              "/* Pipeline/ColumnTransformer-specific style */\n",
              "\n",
              "#sk-container-id-1 div.sk-label input.sk-toggleable__control:checked~label.sk-toggleable__label {\n",
              "  color: var(--sklearn-color-text);\n",
              "  background-color: var(--sklearn-color-unfitted-level-2);\n",
              "}\n",
              "\n",
              "#sk-container-id-1 div.sk-label.fitted input.sk-toggleable__control:checked~label.sk-toggleable__label {\n",
              "  background-color: var(--sklearn-color-fitted-level-2);\n",
              "}\n",
              "\n",
              "/* Estimator-specific style */\n",
              "\n",
              "/* Colorize estimator box */\n",
              "#sk-container-id-1 div.sk-estimator input.sk-toggleable__control:checked~label.sk-toggleable__label {\n",
              "  /* unfitted */\n",
              "  background-color: var(--sklearn-color-unfitted-level-2);\n",
              "}\n",
              "\n",
              "#sk-container-id-1 div.sk-estimator.fitted input.sk-toggleable__control:checked~label.sk-toggleable__label {\n",
              "  /* fitted */\n",
              "  background-color: var(--sklearn-color-fitted-level-2);\n",
              "}\n",
              "\n",
              "#sk-container-id-1 div.sk-label label.sk-toggleable__label,\n",
              "#sk-container-id-1 div.sk-label label {\n",
              "  /* The background is the default theme color */\n",
              "  color: var(--sklearn-color-text-on-default-background);\n",
              "}\n",
              "\n",
              "/* On hover, darken the color of the background */\n",
              "#sk-container-id-1 div.sk-label:hover label.sk-toggleable__label {\n",
              "  color: var(--sklearn-color-text);\n",
              "  background-color: var(--sklearn-color-unfitted-level-2);\n",
              "}\n",
              "\n",
              "/* Label box, darken color on hover, fitted */\n",
              "#sk-container-id-1 div.sk-label.fitted:hover label.sk-toggleable__label.fitted {\n",
              "  color: var(--sklearn-color-text);\n",
              "  background-color: var(--sklearn-color-fitted-level-2);\n",
              "}\n",
              "\n",
              "/* Estimator label */\n",
              "\n",
              "#sk-container-id-1 div.sk-label label {\n",
              "  font-family: monospace;\n",
              "  font-weight: bold;\n",
              "  display: inline-block;\n",
              "  line-height: 1.2em;\n",
              "}\n",
              "\n",
              "#sk-container-id-1 div.sk-label-container {\n",
              "  text-align: center;\n",
              "}\n",
              "\n",
              "/* Estimator-specific */\n",
              "#sk-container-id-1 div.sk-estimator {\n",
              "  font-family: monospace;\n",
              "  border: 1px dotted var(--sklearn-color-border-box);\n",
              "  border-radius: 0.25em;\n",
              "  box-sizing: border-box;\n",
              "  margin-bottom: 0.5em;\n",
              "  /* unfitted */\n",
              "  background-color: var(--sklearn-color-unfitted-level-0);\n",
              "}\n",
              "\n",
              "#sk-container-id-1 div.sk-estimator.fitted {\n",
              "  /* fitted */\n",
              "  background-color: var(--sklearn-color-fitted-level-0);\n",
              "}\n",
              "\n",
              "/* on hover */\n",
              "#sk-container-id-1 div.sk-estimator:hover {\n",
              "  /* unfitted */\n",
              "  background-color: var(--sklearn-color-unfitted-level-2);\n",
              "}\n",
              "\n",
              "#sk-container-id-1 div.sk-estimator.fitted:hover {\n",
              "  /* fitted */\n",
              "  background-color: var(--sklearn-color-fitted-level-2);\n",
              "}\n",
              "\n",
              "/* Specification for estimator info (e.g. \"i\" and \"?\") */\n",
              "\n",
              "/* Common style for \"i\" and \"?\" */\n",
              "\n",
              ".sk-estimator-doc-link,\n",
              "a:link.sk-estimator-doc-link,\n",
              "a:visited.sk-estimator-doc-link {\n",
              "  float: right;\n",
              "  font-size: smaller;\n",
              "  line-height: 1em;\n",
              "  font-family: monospace;\n",
              "  background-color: var(--sklearn-color-background);\n",
              "  border-radius: 1em;\n",
              "  height: 1em;\n",
              "  width: 1em;\n",
              "  text-decoration: none !important;\n",
              "  margin-left: 0.5em;\n",
              "  text-align: center;\n",
              "  /* unfitted */\n",
              "  border: var(--sklearn-color-unfitted-level-1) 1pt solid;\n",
              "  color: var(--sklearn-color-unfitted-level-1);\n",
              "}\n",
              "\n",
              ".sk-estimator-doc-link.fitted,\n",
              "a:link.sk-estimator-doc-link.fitted,\n",
              "a:visited.sk-estimator-doc-link.fitted {\n",
              "  /* fitted */\n",
              "  border: var(--sklearn-color-fitted-level-1) 1pt solid;\n",
              "  color: var(--sklearn-color-fitted-level-1);\n",
              "}\n",
              "\n",
              "/* On hover */\n",
              "div.sk-estimator:hover .sk-estimator-doc-link:hover,\n",
              ".sk-estimator-doc-link:hover,\n",
              "div.sk-label-container:hover .sk-estimator-doc-link:hover,\n",
              ".sk-estimator-doc-link:hover {\n",
              "  /* unfitted */\n",
              "  background-color: var(--sklearn-color-unfitted-level-3);\n",
              "  color: var(--sklearn-color-background);\n",
              "  text-decoration: none;\n",
              "}\n",
              "\n",
              "div.sk-estimator.fitted:hover .sk-estimator-doc-link.fitted:hover,\n",
              ".sk-estimator-doc-link.fitted:hover,\n",
              "div.sk-label-container:hover .sk-estimator-doc-link.fitted:hover,\n",
              ".sk-estimator-doc-link.fitted:hover {\n",
              "  /* fitted */\n",
              "  background-color: var(--sklearn-color-fitted-level-3);\n",
              "  color: var(--sklearn-color-background);\n",
              "  text-decoration: none;\n",
              "}\n",
              "\n",
              "/* Span, style for the box shown on hovering the info icon */\n",
              ".sk-estimator-doc-link span {\n",
              "  display: none;\n",
              "  z-index: 9999;\n",
              "  position: relative;\n",
              "  font-weight: normal;\n",
              "  right: .2ex;\n",
              "  padding: .5ex;\n",
              "  margin: .5ex;\n",
              "  width: min-content;\n",
              "  min-width: 20ex;\n",
              "  max-width: 50ex;\n",
              "  color: var(--sklearn-color-text);\n",
              "  box-shadow: 2pt 2pt 4pt #999;\n",
              "  /* unfitted */\n",
              "  background: var(--sklearn-color-unfitted-level-0);\n",
              "  border: .5pt solid var(--sklearn-color-unfitted-level-3);\n",
              "}\n",
              "\n",
              ".sk-estimator-doc-link.fitted span {\n",
              "  /* fitted */\n",
              "  background: var(--sklearn-color-fitted-level-0);\n",
              "  border: var(--sklearn-color-fitted-level-3);\n",
              "}\n",
              "\n",
              ".sk-estimator-doc-link:hover span {\n",
              "  display: block;\n",
              "}\n",
              "\n",
              "/* \"?\"-specific style due to the `<a>` HTML tag */\n",
              "\n",
              "#sk-container-id-1 a.estimator_doc_link {\n",
              "  float: right;\n",
              "  font-size: 1rem;\n",
              "  line-height: 1em;\n",
              "  font-family: monospace;\n",
              "  background-color: var(--sklearn-color-background);\n",
              "  border-radius: 1rem;\n",
              "  height: 1rem;\n",
              "  width: 1rem;\n",
              "  text-decoration: none;\n",
              "  /* unfitted */\n",
              "  color: var(--sklearn-color-unfitted-level-1);\n",
              "  border: var(--sklearn-color-unfitted-level-1) 1pt solid;\n",
              "}\n",
              "\n",
              "#sk-container-id-1 a.estimator_doc_link.fitted {\n",
              "  /* fitted */\n",
              "  border: var(--sklearn-color-fitted-level-1) 1pt solid;\n",
              "  color: var(--sklearn-color-fitted-level-1);\n",
              "}\n",
              "\n",
              "/* On hover */\n",
              "#sk-container-id-1 a.estimator_doc_link:hover {\n",
              "  /* unfitted */\n",
              "  background-color: var(--sklearn-color-unfitted-level-3);\n",
              "  color: var(--sklearn-color-background);\n",
              "  text-decoration: none;\n",
              "}\n",
              "\n",
              "#sk-container-id-1 a.estimator_doc_link.fitted:hover {\n",
              "  /* fitted */\n",
              "  background-color: var(--sklearn-color-fitted-level-3);\n",
              "}\n",
              "</style><div id=\"sk-container-id-1\" class=\"sk-top-container\"><div class=\"sk-text-repr-fallback\"><pre>LogisticRegression()</pre><b>In a Jupyter environment, please rerun this cell to show the HTML representation or trust the notebook. <br />On GitHub, the HTML representation is unable to render, please try loading this page with nbviewer.org.</b></div><div class=\"sk-container\" hidden><div class=\"sk-item\"><div class=\"sk-estimator fitted sk-toggleable\"><input class=\"sk-toggleable__control sk-hidden--visually\" id=\"sk-estimator-id-1\" type=\"checkbox\" checked><label for=\"sk-estimator-id-1\" class=\"sk-toggleable__label fitted sk-toggleable__label-arrow\"><div><div>LogisticRegression</div></div><div><a class=\"sk-estimator-doc-link fitted\" rel=\"noreferrer\" target=\"_blank\" href=\"https://scikit-learn.org/1.6/modules/generated/sklearn.linear_model.LogisticRegression.html\">?<span>Documentation for LogisticRegression</span></a><span class=\"sk-estimator-doc-link fitted\">i<span>Fitted</span></span></div></label><div class=\"sk-toggleable__content fitted\"><pre>LogisticRegression()</pre></div> </div></div></div></div>"
            ]
          },
          "metadata": {},
          "execution_count": 10
        }
      ]
    },
    {
      "cell_type": "code",
      "source": [
        "# Predict on the test set\n",
        "y_pred = lr_model.predict(X_test)"
      ],
      "metadata": {
        "execution": {
          "iopub.status.busy": "2024-06-18T13:28:13.661422Z",
          "iopub.execute_input": "2024-06-18T13:28:13.66184Z",
          "iopub.status.idle": "2024-06-18T13:28:13.669013Z",
          "shell.execute_reply.started": "2024-06-18T13:28:13.66181Z",
          "shell.execute_reply": "2024-06-18T13:28:13.667777Z"
        },
        "trusted": true,
        "id": "t-dpFJ4J1tw2"
      },
      "execution_count": null,
      "outputs": []
    },
    {
      "cell_type": "code",
      "source": [
        "# Calculate evaluation metrics for Logistic Regression\n",
        "accuracy = accuracy_score(y_test, y_pred)\n",
        "precision = precision_score(y_test, y_pred, average='weighted')\n",
        "recall = recall_score(y_test, y_pred, average='weighted')\n",
        "f1 = f1_score(y_test, y_pred, average='weighted')\n",
        "\n",
        "print(f'Logistic Regression - Accuracy: {accuracy:.2f}')\n",
        "print(f'Logistic Regression - Precision: {precision:.2f}')\n",
        "print(f'Logistic Regression - Recall: {recall:.2f}')\n",
        "print(f'Logistic Regression - F1 Score: {f1:.2f}')"
      ],
      "metadata": {
        "execution": {
          "iopub.status.busy": "2024-06-18T13:28:28.253761Z",
          "iopub.execute_input": "2024-06-18T13:28:28.254183Z",
          "iopub.status.idle": "2024-06-18T13:28:28.470314Z",
          "shell.execute_reply.started": "2024-06-18T13:28:28.254152Z",
          "shell.execute_reply": "2024-06-18T13:28:28.468957Z"
        },
        "trusted": true,
        "colab": {
          "base_uri": "https://localhost:8080/"
        },
        "id": "TSz7lFDQ1tw3",
        "outputId": "7e47605e-c788-43f2-bb9f-0a5d57c9129b"
      },
      "execution_count": null,
      "outputs": [
        {
          "output_type": "stream",
          "name": "stdout",
          "text": [
            "Logistic Regression - Accuracy: 0.68\n",
            "Logistic Regression - Precision: 0.69\n",
            "Logistic Regression - Recall: 0.68\n",
            "Logistic Regression - F1 Score: 0.68\n"
          ]
        }
      ]
    },
    {
      "cell_type": "code",
      "source": [
        "# Generate and plot the confusion matrix for Logistic Regression\n",
        "conf_matrix = confusion_matrix(y_test, y_pred)\n",
        "plt.figure(figsize=(8, 6))\n",
        "sns.heatmap(conf_matrix, annot=True, fmt='d', cmap='Blues', xticklabels=df['sentiment'].unique(), yticklabels=df['sentiment'].unique())\n",
        "plt.xlabel('Predicted')\n",
        "plt.ylabel('True')\n",
        "plt.title('Logistic Regression - Confusion Matrix')\n",
        "plt.show()"
      ],
      "metadata": {
        "execution": {
          "iopub.status.busy": "2024-06-18T13:30:22.520982Z",
          "iopub.execute_input": "2024-06-18T13:30:22.521431Z",
          "iopub.status.idle": "2024-06-18T13:30:23.025857Z",
          "shell.execute_reply.started": "2024-06-18T13:30:22.521396Z",
          "shell.execute_reply": "2024-06-18T13:30:23.024466Z"
        },
        "trusted": true,
        "colab": {
          "base_uri": "https://localhost:8080/",
          "height": 573
        },
        "id": "NlMWH4PP1tw3",
        "outputId": "2418674b-5bab-429c-d1a1-6abce1f9534a"
      },
      "execution_count": null,
      "outputs": [
        {
          "output_type": "display_data",
          "data": {
            "text/plain": [
              "<Figure size 800x600 with 2 Axes>"
            ],
            "image/png": "[encoded data removed]"
          },
          "metadata": {}
        }
      ]
    },
    {
      "cell_type": "markdown",
      "source": [
        "**Logistic Regression Confusion Matrix**\n",
        "\n",
        "The model correctly classified 862 neutral instances, but misclassified 617 as negative and 93 as positive. For the negative class, it correctly identified 1,703 instances, while misclassifying 280 as neutral and 253 as positive. In the positive class, the model accurately predicted 1,161 instances but misclassified 456 as negative and 71 as neutral.\n",
        "\n",
        "This indicates that the model is particularly strong at identifying negative sentiments, shown by the high number of correct predictions (1,703) for this class. However, it struggles more with distinguishing neutral and positive sentiments, leading to notable misclassifications between these categories. The overall performance shows a need for improvement in differentiating closely related sentiments, particularly between neutral and negative classes."
      ],
      "metadata": {
        "id": "OBsnRqzo1tw3"
      }
    },
    {
      "cell_type": "code",
      "source": [
        "print(\"Logistic Regression - Classification Report:\\n\", classification_report(y_test, y_pred, target_names=df['sentiment'].unique()))"
      ],
      "metadata": {
        "execution": {
          "iopub.status.busy": "2024-06-18T13:30:42.837588Z",
          "iopub.execute_input": "2024-06-18T13:30:42.838025Z",
          "iopub.status.idle": "2024-06-18T13:30:43.135002Z",
          "shell.execute_reply.started": "2024-06-18T13:30:42.837993Z",
          "shell.execute_reply": "2024-06-18T13:30:43.133657Z"
        },
        "trusted": true,
        "colab": {
          "base_uri": "https://localhost:8080/"
        },
        "id": "2yi7p6vB1tw4",
        "outputId": "d50eae14-c1ae-46ab-e133-eb733991a621"
      },
      "execution_count": null,
      "outputs": [
        {
          "output_type": "stream",
          "name": "stdout",
          "text": [
            "Logistic Regression - Classification Report:\n",
            "               precision    recall  f1-score   support\n",
            "\n",
            "     neutral       0.72      0.55      0.62      1572\n",
            "    negative       0.62      0.77      0.68      2236\n",
            "    positive       0.78      0.69      0.73      1688\n",
            "\n",
            "    accuracy                           0.68      5496\n",
            "   macro avg       0.70      0.67      0.68      5496\n",
            "weighted avg       0.69      0.68      0.68      5496\n",
            "\n"
          ]
        }
      ]
    },
    {
      "cell_type": "markdown",
      "source": [
        "**Logistic Regression Classification Report**\n",
        "\n",
        "The model's precision, recall, and F1-score for the neutral class are 0.71, 0.55, and 0.62, respectively, indicating that while it is relatively precise in identifying neutral tweets, it misses a significant portion of them, as reflected in the lower recall. For the negative class, the precision is 0.61, recall is 0.76, and F1-score is 0.68, suggesting that the model is more effective in capturing negative tweets, but it also includes more false positives. The positive class shows a precision of 0.77, recall of 0.69, and F1-score of 0.73, demonstrating that the model performs fairly well in identifying positive tweets, although there is still room for improvement.\n",
        "\n",
        "The model achieves an accuracy of 68%, with the macro average (average of precision, recall, and F1-score for all classes) being 0.70 for precision, 0.67 for recall, and 0.68 for F1-score. The weighted average, which takes into account the support (number of true instances for each class), is slightly lower, indicating that the model's performance is reasonably consistent across different classes but has a slight bias towards the negative class due to its higher support. These metrics suggest that while the model is moderately effective, there is potential for enhancing its precision and recall, particularly for the neutral and positive classes, to improve overall performance."
      ],
      "metadata": {
        "id": "nhcqsTHu1tw4"
      }
    },
    {
      "cell_type": "code",
      "source": [
        "# Load the pre-trained BERT tokenizer and model\n",
        "tokenizer= BertTokenizer.from_pretrained('bert-base-uncased')\n",
        "model= BertForSequenceClassification.from_pretrained('bert-base-uncased', num_labels=3) # 3 sentiment classes\n",
        "\n",
        "# Encode the text data using the tokenizer\n",
        "encoded_data= tokenizer.batch_encode_plus(df['text'].tolist(), max_length=128, padding=True, truncation=True, return_tensors='pt')"
      ],
      "metadata": {
        "execution": {
          "iopub.status.busy": "2024-06-18T13:31:20.458624Z",
          "iopub.execute_input": "2024-06-18T13:31:20.459739Z",
          "iopub.status.idle": "2024-06-18T13:31:46.76602Z",
          "shell.execute_reply.started": "2024-06-18T13:31:20.459689Z",
          "shell.execute_reply": "2024-06-18T13:31:46.763689Z"
        },
        "trusted": true,
        "colab": {
          "base_uri": "https://localhost:8080/",
          "height": 232,
          "referenced_widgets": [
            "ed0953b4b45b4a3393c9ed93fcaa3636",
            "ecc61e22aba544aaa39f5b8bc7f4125c",
            "ca47185c85e94f8f8029af08cc5791e3",
            "a5ca75f044a5419ab51eeca254976010",
            "ed278e5d17894c01afeea3557f18ed56",
            "1effffd77195444e80e842dbd91ed04d",
            "045366cd624e45a797feedb9374badb6",
            "abd0c51276284459b2d50ff97476eed5",
            "1d408035bb1c4c24803a70fd547af17b",
            "d2b2cdfc18f944cab28f3b8e5501f24e",
            "1904d889a77740c09356aa317c19b019",
            "26d5e2d6ab6f434691969a4396a5f7b4",
            "30c06afdc6eb4dd08a26ec07faaeb846",
            "cd4246bf42d2431d87f8c2ab53504fff",
            "e4f3906a7c9f4191bf7b6d0dcfd8936e",
            "b050907669fe4465a6fefcdecc90e60c",
            "9b7d5cd2b4924121b87048520ea0dc9f",
            "de7ca1c45b914714995438f3394be44d",
            "b17ed1542f2e4faaab9ad88d659a17dc",
            "7bb46bf09a24461ca9b4a6d4677d02ec",
            "7b005f619ab44ea186808c6b40186294",
            "c9503902725f4e7ea48e1e99a50bf6b4",
            "549bc1ca745b44b3b547a8029d8f8609",
            "326a6aed38b5412c98e96bee780f84e8",
            "78c3d5b0217f40adaab283037e237fdb",
            "a38dac0dfea44078a220049b03238633",
            "f160966f09914bc28ed60c06d34335d1",
            "065d19c86c7c4c6c96a21a369b76dc85",
            "c6c50fc4530147ebbd9153b567b02a4d",
            "9b7ee38a58c9471b83cca94398c911d1",
            "b0ccd62131ce4c92be9e2a6cd213f9ff",
            "162139a610bf43f8a45129f8decaea70",
            "810632fc48154a5ba772136cd1ce2736",
            "78093e382f4c40489b1a8110b1901539",
            "9af8a02668234a5aba8b05944c69deae",
            "0a1d9f4fa3834f0492ca81a0514360af",
            "bd82e0f56bed4ff59a2fb52f3c9bc912",
            "0e868d3dd92a4d70b279f652457f201c",
            "b010ad8047244098af45470cdb92acaa",
            "b01086fedc5e4206bae5bc7d3f0db664",
            "2117fd73d0cf4ddcbca8f01107844f96",
            "41dcf49809684e589df31a1d067e22f8",
            "19e316f1ff9d412da14562227e8cf260",
            "2d792ad7b5a545dd8c6ec933c2157c68",
            "b308e9ab534c4e5d8ba945066e4f8824",
            "3ddaeadcf2be4a1387f93eeaae6dbbca",
            "2d50a115f35f4ddf9d083355ceec0a54",
            "c4715ef3c0d44120894d166059115c4c",
            "c5946513349c4e33863a6e090bc9b17d",
            "f4e5b7d9deb34d11b87f02fb3f9992a8",
            "e2453ee329f14db2ba869ba51a92b83e",
            "40803f2b2683454698e146737cdf0da6",
            "dfc0a3da9cfc46e1816549fa3ce06570",
            "2dd26bd28ea24cc2b3051f803441c3fe",
            "144ed2bd39fd4be3b8c02761747f6491"
          ]
        },
        "id": "R5QdvBVd1tw4",
        "outputId": "8b705861-f18f-499e-b78e-5858ec5efa83"
      },
      "execution_count": null,
      "outputs": [
        {
          "output_type": "display_data",
          "data": {
            "text/plain": [
              "tokenizer_config.json:   0%|          | 0.00/48.0 [00:00<?, ?B/s]"
            ],
            "application/vnd.jupyter.widget-view+json": {
              "version_major": 2,
              "version_minor": 0,
              "model_id": "ed0953b4b45b4a3393c9ed93fcaa3636"
            }
          },
          "metadata": {}
        },
        {
          "output_type": "display_data",
          "data": {
            "text/plain": [
              "vocab.txt:   0%|          | 0.00/232k [00:00<?, ?B/s]"
            ],
            "application/vnd.jupyter.widget-view+json": {
              "version_major": 2,
              "version_minor": 0,
              "model_id": "26d5e2d6ab6f434691969a4396a5f7b4"
            }
          },
          "metadata": {}
        },
        {
          "output_type": "display_data",
          "data": {
            "text/plain": [
              "tokenizer.json:   0%|          | 0.00/466k [00:00<?, ?B/s]"
            ],
            "application/vnd.jupyter.widget-view+json": {
              "version_major": 2,
              "version_minor": 0,
              "model_id": "549bc1ca745b44b3b547a8029d8f8609"
            }
          },
          "metadata": {}
        },
        {
          "output_type": "display_data",
          "data": {
            "text/plain": [
              "config.json:   0%|          | 0.00/570 [00:00<?, ?B/s]"
            ],
            "application/vnd.jupyter.widget-view+json": {
              "version_major": 2,
              "version_minor": 0,
              "model_id": "78093e382f4c40489b1a8110b1901539"
            }
          },
          "metadata": {}
        },
        {
          "output_type": "display_data",
          "data": {
            "text/plain": [
              "model.safetensors:   0%|          | 0.00/440M [00:00<?, ?B/s]"
            ],
            "application/vnd.jupyter.widget-view+json": {
              "version_major": 2,
              "version_minor": 0,
              "model_id": "b308e9ab534c4e5d8ba945066e4f8824"
            }
          },
          "metadata": {}
        },
        {
          "output_type": "stream",
          "name": "stderr",
          "text": [
            "Some weights of BertForSequenceClassification were not initialized from the model checkpoint at bert-base-uncased and are newly initialized: ['classifier.bias', 'classifier.weight']\n",
            "You should probably TRAIN this model on a down-stream task to be able to use it for predictions and inference.\n"
          ]
        }
      ]
    },
    {
      "cell_type": "code",
      "source": [
        "# Split the data into training and test sets for BERT\n",
        "input_ids= encoded_data['input_ids']\n",
        "attention_masks= encoded_data['attention_mask']\n",
        "labels= torch.tensor(df['sentiment'].map({'positive': 0, 'negative': 1, 'neutral': 2}).values)\n",
        "\n",
        "train_inputs, val_inputs, train_labels, val_labels= train_test_split(input_ids, labels, test_size= 0.2, random_state= 42)\n",
        "train_masks, val_masks, _, _= train_test_split(attention_masks, input_ids, test_size= 0.2, random_state= 42)"
      ],
      "metadata": {
        "execution": {
          "iopub.status.busy": "2024-06-18T13:32:17.226152Z",
          "iopub.execute_input": "2024-06-18T13:32:17.22662Z",
          "iopub.status.idle": "2024-06-18T13:32:17.312925Z",
          "shell.execute_reply.started": "2024-06-18T13:32:17.226571Z",
          "shell.execute_reply": "2024-06-18T13:32:17.311821Z"
        },
        "trusted": true,
        "id": "KyKsmrdX1tw4"
      },
      "execution_count": null,
      "outputs": []
    },
    {
      "cell_type": "code",
      "source": [
        "# Convert your data into the required format for the Dataset object\n",
        "def convert_to_dataset(input_ids, attention_masks, labels):\n",
        "    dataset = Dataset.from_dict({\n",
        "        'input_ids': input_ids.numpy(),\n",
        "        'attention_mask': attention_masks.numpy(),\n",
        "        'labels': labels.numpy()\n",
        "    })\n",
        "    return dataset"
      ],
      "metadata": {
        "execution": {
          "iopub.status.busy": "2024-06-18T13:32:39.039995Z",
          "iopub.execute_input": "2024-06-18T13:32:39.040403Z",
          "iopub.status.idle": "2024-06-18T13:32:39.050508Z",
          "shell.execute_reply.started": "2024-06-18T13:32:39.040371Z",
          "shell.execute_reply": "2024-06-18T13:32:39.048696Z"
        },
        "trusted": true,
        "id": "8E8OVcg31tw4"
      },
      "execution_count": null,
      "outputs": []
    },
    {
      "cell_type": "code",
      "source": [
        "# Create the training and validation datasets\n",
        "train_dataset= convert_to_dataset(train_inputs, train_masks, train_labels)\n",
        "val_dataset= convert_to_dataset(val_inputs, val_masks, val_labels)"
      ],
      "metadata": {
        "execution": {
          "iopub.status.busy": "2024-06-18T13:32:53.202513Z",
          "iopub.execute_input": "2024-06-18T13:32:53.202969Z",
          "iopub.status.idle": "2024-06-18T13:32:53.461379Z",
          "shell.execute_reply.started": "2024-06-18T13:32:53.202935Z",
          "shell.execute_reply": "2024-06-18T13:32:53.459854Z"
        },
        "trusted": true,
        "id": "qYsZSymA1tw5"
      },
      "execution_count": null,
      "outputs": []
    },
    {
      "cell_type": "code",
      "source": [
        "# Use a data collator to handle padding\n",
        "data_collator= DataCollatorWithPadding(tokenizer)\n",
        "\n",
        "# Set up the training arguments\n",
        "training_args= TrainingArguments(output_dir='./bert_output', num_train_epochs=1, per_device_train_batch_size=16, per_device_eval_batch_size=64, warmup_steps=500, weight_decay=0.01, logging_dir='./logs', report_to= 'none')"
      ],
      "metadata": {
        "execution": {
          "iopub.status.busy": "2024-06-18T13:38:37.660483Z",
          "iopub.execute_input": "2024-06-18T13:38:37.66096Z",
          "iopub.status.idle": "2024-06-18T13:38:37.668397Z",
          "shell.execute_reply.started": "2024-06-18T13:38:37.660921Z",
          "shell.execute_reply": "2024-06-18T13:38:37.667079Z"
        },
        "trusted": true,
        "id": "k5dVi12o1tw5"
      },
      "execution_count": null,
      "outputs": []
    },
    {
      "cell_type": "code",
      "source": [
        "# Create the trainer\n",
        "trainer= Trainer(model= model, args= training_args, train_dataset= train_dataset, eval_dataset= val_dataset, data_collator= data_collator, tokenizer= tokenizer)\n",
        "\n",
        "# Train the model\n",
        "trainer.train()"
      ],
      "metadata": {
        "execution": {
          "iopub.status.busy": "2024-06-18T13:39:41.255641Z",
          "iopub.execute_input": "2024-06-18T13:39:41.256084Z",
          "iopub.status.idle": "2024-06-18T17:08:27.846751Z",
          "shell.execute_reply.started": "2024-06-18T13:39:41.25605Z",
          "shell.execute_reply": "2024-06-18T17:08:27.843839Z"
        },
        "trusted": true,
        "colab": {
          "base_uri": "https://localhost:8080/",
          "height": 173
        },
        "id": "KEKh8doF1tw5",
        "outputId": "a825ab8a-3402-4a9a-da36-fcf758e8c1e3"
      },
      "execution_count": null,
      "outputs": [
        {
          "output_type": "display_data",
          "data": {
            "text/plain": [
              "<IPython.core.display.HTML object>"
            ],
            "text/html": [
              "\n",
              "    <div>\n",
              "      \n",
              "      <progress value='1374' max='1374' style='width:300px; height:20px; vertical-align: middle;'></progress>\n",
              "      [1374/1374 07:35, Epoch 1/1]\n",
              "    </div>\n",
              "    <table border=\"1\" class=\"dataframe\">\n",
              "  <thead>\n",
              " <tr style=\"text-align: left;\">\n",
              "      <th>Step</th>\n",
              "      <th>Training Loss</th>\n",
              "    </tr>\n",
              "  </thead>\n",
              "  <tbody>\n",
              "    <tr>\n",
              "      <td>500</td>\n",
              "      <td>0.794000</td>\n",
              "    </tr>\n",
              "    <tr>\n",
              "      <td>1000</td>\n",
              "      <td>0.588600</td>\n",
              "    </tr>\n",
              "  </tbody>\n",
              "</table><p>"
            ]
          },
          "metadata": {}
        },
        {
          "output_type": "execute_result",
          "data": {
            "text/plain": [
              "TrainOutput(global_step=1374, training_loss=0.6448604578187546, metrics={'train_runtime': 457.0041, 'train_samples_per_second': 48.105, 'train_steps_per_second': 3.007, 'total_flos': 1242717561106560.0, 'train_loss': 0.6448604578187546, 'epoch': 1.0})"
            ]
          },
          "metadata": {},
          "execution_count": 20
        }
      ]
    },
    {
      "cell_type": "markdown",
      "source": [
        "**BERT Model Training Results**\n",
        "\n",
        "At step 500, the training loss was recorded at 0.7743, indicating the initial stages of the model learning from the data. By step 1000, the training loss had improved significantly to 0.5850, showing that the model was effectively optimizing and reducing errors. The overall average training loss across all steps was 0.6374, reflecting the model's ability to generalize well over the training period.\n",
        "\n",
        "The training output metrics further highlight the training process. The model underwent a total of 1374 training steps. The total runtime for this training was approximately 12,526 seconds, or about 3.5 hours. The model processed an average of 1.755 samples per second, with a step processing rate of 0.11 steps per second. Additionally, the total floating-point operations (FLOPs) were reported as 1,242,717,561,106,560. These metrics indicate that the training was computationally intensive, but the model achieved a reasonable balance between speed and accuracy, as evidenced by the gradual reduction in training loss."
      ],
      "metadata": {
        "id": "yUu3eQA21tw5"
      }
    },
    {
      "cell_type": "code",
      "source": [
        "# Evaluate the BERT model\n",
        "model.eval()\n",
        "predictions= []\n",
        "true_labels= []"
      ],
      "metadata": {
        "execution": {
          "iopub.status.busy": "2024-06-18T17:10:30.577245Z",
          "iopub.execute_input": "2024-06-18T17:10:30.5778Z",
          "iopub.status.idle": "2024-06-18T17:10:30.589851Z",
          "shell.execute_reply.started": "2024-06-18T17:10:30.577736Z",
          "shell.execute_reply": "2024-06-18T17:10:30.588515Z"
        },
        "trusted": true,
        "id": "ORyNfRBj1tw5"
      },
      "execution_count": null,
      "outputs": []
    },
    {
      "cell_type": "code",
      "source": [
        "# Create a DataLoader for the validation set\n",
        "val_dataset = TensorDataset(val_inputs, val_masks, val_labels)\n",
        "val_dataloader = DataLoader(val_dataset, batch_size=32)"
      ],
      "metadata": {
        "execution": {
          "iopub.status.busy": "2024-06-18T17:10:33.245262Z",
          "iopub.execute_input": "2024-06-18T17:10:33.245735Z",
          "iopub.status.idle": "2024-06-18T17:10:33.254428Z",
          "shell.execute_reply.started": "2024-06-18T17:10:33.2457Z",
          "shell.execute_reply": "2024-06-18T17:10:33.252936Z"
        },
        "trusted": true,
        "id": "DOVzVuC11tw5"
      },
      "execution_count": null,
      "outputs": []
    },
    {
      "cell_type": "code",
      "source": [
        "# Make predictions on the validation set\n",
        "with torch.no_grad():\n",
        "    for batch in val_dataloader:\n",
        "        batch = tuple(b.to(device) for b in batch)\n",
        "        inputs = {'input_ids': batch[0], 'attention_mask': batch[1]}\n",
        "        outputs = model(**inputs)\n",
        "        logits = outputs[0]\n",
        "        logits = logits.detach().cpu().numpy()\n",
        "        label_ids = batch[2].to('cpu').numpy()\n",
        "        predictions.extend(np.argmax(logits, axis=1))\n",
        "        true_labels.extend(label_ids)"
      ],
      "metadata": {
        "execution": {
          "iopub.status.busy": "2024-06-18T17:10:36.340073Z",
          "iopub.execute_input": "2024-06-18T17:10:36.340529Z",
          "iopub.status.idle": "2024-06-18T17:26:06.483198Z",
          "shell.execute_reply.started": "2024-06-18T17:10:36.340491Z",
          "shell.execute_reply": "2024-06-18T17:26:06.481554Z"
        },
        "trusted": true,
        "id": "EVsu6rAC1tw6"
      },
      "execution_count": null,
      "outputs": []
    },
    {
      "cell_type": "code",
      "source": [
        "# Calculate evaluation metrics for BERT\n",
        "accuracy = accuracy_score(true_labels, predictions)\n",
        "precision = precision_score(true_labels, predictions, average='weighted')\n",
        "recall = recall_score(true_labels, predictions, average='weighted')\n",
        "f1 = f1_score(true_labels, predictions, average='weighted')\n",
        "\n",
        "print(f'BERT - Accuracy: {accuracy:.2f}')\n",
        "print(f'BERT - Precision: {precision:.2f}')\n",
        "print(f'BERT - Recall: {recall:.2f}')\n",
        "print(f'BERT - F1 Score: {f1:.2f}')"
      ],
      "metadata": {
        "execution": {
          "iopub.status.busy": "2024-06-18T17:32:53.971139Z",
          "iopub.execute_input": "2024-06-18T17:32:53.971648Z",
          "iopub.status.idle": "2024-06-18T17:32:54.029349Z",
          "shell.execute_reply.started": "2024-06-18T17:32:53.971592Z",
          "shell.execute_reply": "2024-06-18T17:32:54.028191Z"
        },
        "trusted": true,
        "colab": {
          "base_uri": "https://localhost:8080/"
        },
        "id": "LvlcmEtT1tw6",
        "outputId": "6dbd3f30-8134-460d-dbf1-428cff189a34"
      },
      "execution_count": null,
      "outputs": [
        {
          "output_type": "stream",
          "name": "stdout",
          "text": [
            "BERT - Accuracy: 0.79\n",
            "BERT - Precision: 0.79\n",
            "BERT - Recall: 0.79\n",
            "BERT - F1 Score: 0.79\n"
          ]
        }
      ]
    },
    {
      "cell_type": "code",
      "source": [
        "# Generate and plot the confusion matrix for BERT\n",
        "conf_matrix = confusion_matrix(true_labels, predictions)\n",
        "plt.figure(figsize=(8, 6))\n",
        "sns.heatmap(conf_matrix, annot=True, fmt='d', cmap='Blues', xticklabels=df['sentiment'].unique(), yticklabels=df['sentiment'].unique())\n",
        "plt.xlabel('Predicted')\n",
        "plt.ylabel('True')\n",
        "plt.title('BERT - Confusion Matrix')\n",
        "plt.show()"
      ],
      "metadata": {
        "execution": {
          "iopub.status.busy": "2024-06-18T17:33:01.251665Z",
          "iopub.execute_input": "2024-06-18T17:33:01.252152Z",
          "iopub.status.idle": "2024-06-18T17:33:01.789029Z",
          "shell.execute_reply.started": "2024-06-18T17:33:01.252104Z",
          "shell.execute_reply": "2024-06-18T17:33:01.787775Z"
        },
        "trusted": true,
        "colab": {
          "base_uri": "https://localhost:8080/",
          "height": 573
        },
        "id": "vkE92fGf1tw6",
        "outputId": "c0a4c60a-8750-4911-f095-0b4fff26e8f8"
      },
      "execution_count": null,
      "outputs": [
        {
          "output_type": "display_data",
          "data": {
            "text/plain": [
              "<Figure size 800x600 with 2 Axes>"
            ],
            "image/png": "[encoded data removed]"
          },
          "metadata": {}
        }
      ]
    },
    {
      "cell_type": "markdown",
      "source": [
        "**BERT Confusion Matrix**\n",
        "\n",
        "For the neutral class, the model correctly identified 1,408 instances, indicating a strong ability to recognize neutral tweets. However, there were 43 false positives where negative tweets were incorrectly classified as neutral, and 244 false negatives where neutral tweets were misclassified as positive.\n",
        "\n",
        "For the negative class, the model demonstrated high accuracy with 1,309 true positives. There were 43 false positives where neutral tweets were wrongly identified as negative and 220 false negatives where negative tweets were misclassified as positive. This shows the model's robustness in distinguishing negative sentiment but also highlights areas for improvement in reducing misclassifications.\n",
        "\n",
        "In the positive class, the model accurately predicted 1,655 instances. However, it showed 337 false positives where negative tweets were classified as positive, and 237 false negatives where neutral tweets were classified as positive. This indicates that while the model performs well in identifying positive sentiment, it sometimes struggles to distinguish it from neutral and negative sentiments.\n",
        "\n",
        "The confusion matrix reveals that the BERT model has a strong performance in correctly identifying sentiments, particularly neutral and negative. However, there are areas for improvement, especially in reducing the misclassification of neutral and negative tweets as positive. These insights are crucial for fine-tuning the model to enhance its accuracy and reliability further."
      ],
      "metadata": {
        "id": "IOH0V0IU1tw7"
      }
    },
    {
      "cell_type": "code",
      "source": [
        "# BERT Classification Report\n",
        "print(\"BERT - Classification Report:\\n\", classification_report(true_labels, predictions, target_names=df['sentiment'].unique()))"
      ],
      "metadata": {
        "execution": {
          "iopub.status.busy": "2024-06-18T17:33:23.483614Z",
          "iopub.execute_input": "2024-06-18T17:33:23.48402Z",
          "iopub.status.idle": "2024-06-18T17:33:23.515622Z",
          "shell.execute_reply.started": "2024-06-18T17:33:23.483989Z",
          "shell.execute_reply": "2024-06-18T17:33:23.514292Z"
        },
        "trusted": true,
        "colab": {
          "base_uri": "https://localhost:8080/"
        },
        "id": "TIsmp8ie1tw7",
        "outputId": "2f2458cb-8604-4500-b51a-046c83569909"
      },
      "execution_count": null,
      "outputs": [
        {
          "output_type": "stream",
          "name": "stdout",
          "text": [
            "BERT - Classification Report:\n",
            "               precision    recall  f1-score   support\n",
            "\n",
            "     neutral       0.84      0.84      0.84      1688\n",
            "    negative       0.78      0.80      0.79      1572\n",
            "    positive       0.77      0.75      0.76      2236\n",
            "\n",
            "    accuracy                           0.79      5496\n",
            "   macro avg       0.79      0.80      0.80      5496\n",
            "weighted avg       0.79      0.79      0.79      5496\n",
            "\n"
          ]
        }
      ]
    },
    {
      "cell_type": "markdown",
      "source": [
        "**BERT Classification Report**\n",
        "\n",
        "For the neutral class, the model achieved a precision, recall, and F1-score of 83%, indicating a consistent ability to correctly identify neutral tweets.\n",
        "\n",
        "In the negative class, the model's precision was 78%, recall was 83%, and F1-score was 80%. This shows that the model is effective at identifying negative sentiment, though there is a slight discrepancy between precision and recall, suggesting it occasionally misclassifies some tweets as negative.\n",
        "\n",
        "For the positive class, the model had a precision of 78%, recall of 74%, and an F1-score of 76%. These results indicate that while the model performs reasonably well in identifying positive tweets, it has more room for improvement compared to the other classes.\n",
        "\n",
        "The model achieved an accuracy of 80%, meaning it correctly classified 80% of the tweets. The macro and weighted averages for precision, recall, and F1-score were all 80%, reflecting a balanced performance across all classes. These results suggest that the BERT model is generally effective in sentiment classification but could benefit from further fine-tuning, especially in distinguishing positive sentiments more accurately."
      ],
      "metadata": {
        "id": "Gab3E7Yp1tw7"
      }
    },
    {
      "cell_type": "code",
      "source": [
        "# Tokenization and Vocabulary Creation\n",
        "def encode_text(texts, vocab=None):\n",
        "    tokenized_texts = [word_tokenize(text) for text in texts]\n",
        "    if vocab is None:\n",
        "        vocab = Counter([token for text in tokenized_texts for token in text])\n",
        "        vocab = {word: i+1 for i, (word, count) in enumerate(vocab.items())}\n",
        "    encoded_texts = [[vocab[token] for token in text if token in vocab] for text in tokenized_texts]\n",
        "    return encoded_texts, vocab\n",
        "\n",
        "encoded_texts, vocab = encode_text(df['cleaned_text'].values)"
      ],
      "metadata": {
        "execution": {
          "iopub.status.busy": "2024-06-18T18:03:21.049834Z",
          "iopub.execute_input": "2024-06-18T18:03:21.050413Z",
          "iopub.status.idle": "2024-06-18T18:03:28.910944Z",
          "shell.execute_reply.started": "2024-06-18T18:03:21.050366Z",
          "shell.execute_reply": "2024-06-18T18:03:28.909542Z"
        },
        "trusted": true,
        "id": "7ZsqLUv11tw7"
      },
      "execution_count": null,
      "outputs": []
    },
    {
      "cell_type": "code",
      "source": [
        "# Padding\n",
        "def pad_sequences(sequences, maxlen):\n",
        "    padded_sequences = []\n",
        "    for seq in sequences:\n",
        "        if len(seq) < maxlen:\n",
        "            padded_sequences.append([0] * (maxlen - len(seq)) + seq)\n",
        "        else:\n",
        "            padded_sequences.append(seq[:maxlen])\n",
        "    return np.array(padded_sequences)\n",
        "\n",
        "maxlen = 200\n",
        "X = pad_sequences(encoded_texts, maxlen=maxlen)"
      ],
      "metadata": {
        "execution": {
          "iopub.status.busy": "2024-06-18T18:03:31.99072Z",
          "iopub.execute_input": "2024-06-18T18:03:31.991189Z",
          "iopub.status.idle": "2024-06-18T18:03:32.736284Z",
          "shell.execute_reply.started": "2024-06-18T18:03:31.991152Z",
          "shell.execute_reply": "2024-06-18T18:03:32.735024Z"
        },
        "trusted": true,
        "id": "RAOpPqhE1tw8"
      },
      "execution_count": null,
      "outputs": []
    },
    {
      "cell_type": "code",
      "source": [
        "# Encode labels\n",
        "label_encoder= LabelEncoder()\n",
        "y= label_encoder.fit_transform(df['sentiment'].values)\n",
        "\n",
        "# Split the data\n",
        "X_train, X_val, y_train, y_val = train_test_split(X, y, test_size=0.2, random_state=42)"
      ],
      "metadata": {
        "execution": {
          "iopub.status.busy": "2024-06-18T18:03:39.597627Z",
          "iopub.execute_input": "2024-06-18T18:03:39.598046Z",
          "iopub.status.idle": "2024-06-18T18:03:39.630573Z",
          "shell.execute_reply.started": "2024-06-18T18:03:39.598015Z",
          "shell.execute_reply": "2024-06-18T18:03:39.629305Z"
        },
        "trusted": true,
        "id": "7MagTWGW1tw9"
      },
      "execution_count": null,
      "outputs": []
    },
    {
      "cell_type": "code",
      "source": [
        "# Create Tensor Datasets\n",
        "train_data= TensorDataset(torch.tensor(X_train, dtype=torch.long), torch.tensor(y_train, dtype=torch.long))\n",
        "val_data= TensorDataset(torch.tensor(X_val, dtype=torch.long), torch.tensor(y_val, dtype=torch.long))\n",
        "\n",
        "# Create Data Loaders\n",
        "batch_size= 32\n",
        "train_sampler= RandomSampler(train_data)\n",
        "train_dataloader= DataLoader(train_data, sampler= train_sampler, batch_size= batch_size)\n",
        "\n",
        "val_sampler= SequentialSampler(val_data)\n",
        "val_dataloader= DataLoader(val_data, sampler= val_sampler, batch_size= batch_size)"
      ],
      "metadata": {
        "execution": {
          "iopub.status.busy": "2024-06-18T18:03:42.439767Z",
          "iopub.execute_input": "2024-06-18T18:03:42.440228Z",
          "iopub.status.idle": "2024-06-18T18:03:42.453752Z",
          "shell.execute_reply.started": "2024-06-18T18:03:42.440192Z",
          "shell.execute_reply": "2024-06-18T18:03:42.452332Z"
        },
        "trusted": true,
        "id": "aLKCsYbZ1tw9"
      },
      "execution_count": null,
      "outputs": []
    },
    {
      "cell_type": "code",
      "source": [
        "# Define the LSTM Model\n",
        "class LSTMClassifier(nn.Module):\n",
        "    def __init__(self, vocab_size, embedding_dim, hidden_dim, output_dim, n_layers, drop_prob=0.5):\n",
        "        super(LSTMClassifier, self).__init__()\n",
        "        self.embedding= nn.Embedding(vocab_size, embedding_dim)\n",
        "        self.lstm= nn.LSTM(embedding_dim, hidden_dim, n_layers, dropout=drop_prob, batch_first=True)\n",
        "        self.dropout= nn.Dropout(drop_prob)\n",
        "        self.fc= nn.Linear(hidden_dim, output_dim)\n",
        "\n",
        "    def forward(self, x):\n",
        "        x = self.embedding(x)\n",
        "        lstm_out, _= self.lstm(x)\n",
        "        out= self.dropout(lstm_out[:, -1])\n",
        "        out= self.fc(out)\n",
        "        return out\n",
        "\n",
        "# Model Hyperparameters\n",
        "vocab_size= len(vocab) + 1\n",
        "embedding_dim= 100\n",
        "hidden_dim= 64\n",
        "output_dim= 3 # Number of classes\n",
        "n_layers= 1\n",
        "\n",
        "model= LSTMClassifier(vocab_size, embedding_dim, hidden_dim, output_dim, n_layers)\n",
        "\n",
        "# Training Hyperparameters\n",
        "epochs= 3\n",
        "learning_rate= 0.001\n",
        "\n",
        "# Loss and optimizer\n",
        "criterion= nn.CrossEntropyLoss()\n",
        "optimizer= optim.Adam(model.parameters(), lr=learning_rate)\n",
        "\n",
        "# Early stopping criteria\n",
        "patience= 3\n",
        "best_val_loss= np.inf\n",
        "patience_counter= 0\n",
        "\n",
        "# Move model to device\n",
        "device= torch.device('cuda' if torch.cuda.is_available() else 'cpu')\n",
        "model= model.to(device)"
      ],
      "metadata": {
        "execution": {
          "iopub.status.busy": "2024-06-18T18:03:47.494297Z",
          "iopub.execute_input": "2024-06-18T18:03:47.494801Z",
          "iopub.status.idle": "2024-06-18T18:03:47.539455Z",
          "shell.execute_reply.started": "2024-06-18T18:03:47.494765Z",
          "shell.execute_reply": "2024-06-18T18:03:47.538086Z"
        },
        "trusted": true,
        "id": "QusEbxLu1tw-"
      },
      "execution_count": null,
      "outputs": []
    },
    {
      "cell_type": "code",
      "source": [
        "# Training Loop with early stopping criteria\n",
        "device = torch.device('cuda' if torch.cuda.is_available() else 'cpu')\n",
        "model = model.to(device)\n",
        "\n",
        "# Early stopping criteria\n",
        "patience = 3\n",
        "best_val_loss = np.inf\n",
        "patience_counter = 0\n",
        "\n",
        "for epoch in range(epochs):\n",
        "    model.train()\n",
        "    train_loss = 0\n",
        "    for inputs, labels in train_dataloader:\n",
        "        inputs, labels = inputs.to(device), labels.to(device)\n",
        "        optimizer.zero_grad()\n",
        "        outputs = model(inputs)\n",
        "        loss = criterion(outputs, labels)\n",
        "        loss.backward()\n",
        "        optimizer.step()\n",
        "        train_loss += loss.item()\n",
        "\n",
        "    avg_train_loss = train_loss / len(train_dataloader)\n",
        "\n",
        "    # Validation\n",
        "    model.eval()\n",
        "    val_loss = 0\n",
        "    with torch.no_grad():\n",
        "        for inputs, labels in val_dataloader:\n",
        "            inputs, labels = inputs.to(device), labels.to(device)\n",
        "            outputs = model(inputs)\n",
        "            loss = criterion(outputs, labels)\n",
        "            val_loss += loss.item()\n",
        "\n",
        "    avg_val_loss = val_loss / len(val_dataloader)\n",
        "\n",
        "    print(f'Epoch {epoch + 1}, Training Loss: {avg_train_loss:.4f}, Validation Loss: {avg_val_loss:.2f}')\n",
        "\n",
        "    # Check early stopping criteria\n",
        "    if avg_val_loss < best_val_loss:\n",
        "        best_val_loss = avg_val_loss\n",
        "        patience_counter = 0  # Reset counter if validation loss improves\n",
        "    else:\n",
        "        patience_counter += 1  # Increment counter if validation loss does not improve\n",
        "\n",
        "    if patience_counter >= patience:\n",
        "        print(f'Early stopping at epoch {epoch + 1}')\n",
        "        break  # This break should be inside the loop\n",
        "\n",
        "# Save the model\n",
        "torch.save(model.state_dict(), 'lstm_model.pth')"
      ],
      "metadata": {
        "execution": {
          "iopub.status.busy": "2024-06-18T18:09:54.718492Z",
          "iopub.execute_input": "2024-06-18T18:09:54.718995Z",
          "iopub.status.idle": "2024-06-18T18:12:27.386178Z",
          "shell.execute_reply.started": "2024-06-18T18:09:54.718958Z",
          "shell.execute_reply": "2024-06-18T18:12:27.384921Z"
        },
        "trusted": true,
        "colab": {
          "base_uri": "https://localhost:8080/"
        },
        "id": "UF2MGRtz1tw-",
        "outputId": "fbf2f999-d9e5-47a6-ec8c-2ff8d472458c"
      },
      "execution_count": null,
      "outputs": [
        {
          "output_type": "stream",
          "name": "stdout",
          "text": [
            "Epoch 1, Training Loss: 0.9395, Validation Loss: 0.82\n",
            "Epoch 2, Training Loss: 0.7448, Validation Loss: 0.79\n",
            "Epoch 3, Training Loss: 0.6411, Validation Loss: 0.75\n"
          ]
        }
      ]
    },
    {
      "cell_type": "code",
      "source": [
        "# Evaluate the model\n",
        "def evaluate(model, dataloader):\n",
        "    model.eval()\n",
        "    preds, true_labels = [], []\n",
        "    with torch.no_grad():\n",
        "        for inputs, labels in dataloader:\n",
        "            inputs, labels = inputs.to(device), labels.to(device)\n",
        "            outputs = model(inputs)\n",
        "            _, pred = torch.max(outputs, 1)\n",
        "            preds.extend(pred.cpu().numpy())\n",
        "            true_labels.extend(labels.cpu().numpy())\n",
        "    return preds, true_labels"
      ],
      "metadata": {
        "execution": {
          "iopub.status.busy": "2024-06-18T18:12:41.536314Z",
          "iopub.execute_input": "2024-06-18T18:12:41.536912Z",
          "iopub.status.idle": "2024-06-18T18:12:41.547926Z",
          "shell.execute_reply.started": "2024-06-18T18:12:41.536861Z",
          "shell.execute_reply": "2024-06-18T18:12:41.546345Z"
        },
        "trusted": true,
        "id": "78QAkMnq1tw-"
      },
      "execution_count": null,
      "outputs": []
    },
    {
      "cell_type": "code",
      "source": [
        "# Get predictions and true labels for training and validation sets\n",
        "train_preds, train_labels = evaluate(model, train_dataloader)\n",
        "val_preds, val_labels = evaluate(model, val_dataloader)"
      ],
      "metadata": {
        "execution": {
          "iopub.status.busy": "2024-06-18T18:12:45.453492Z",
          "iopub.execute_input": "2024-06-18T18:12:45.453932Z",
          "iopub.status.idle": "2024-06-18T18:12:59.285753Z",
          "shell.execute_reply.started": "2024-06-18T18:12:45.453899Z",
          "shell.execute_reply": "2024-06-18T18:12:59.28454Z"
        },
        "trusted": true,
        "id": "KuVIQYMf1tw-"
      },
      "execution_count": null,
      "outputs": []
    },
    {
      "cell_type": "code",
      "source": [
        "# Calculate evaluation metrics for the validation set\n",
        "accuracy = accuracy_score(val_labels, val_preds)\n",
        "precision = precision_score(val_labels, val_preds, average='weighted')\n",
        "recall = recall_score(val_labels, val_preds, average='weighted')\n",
        "f1 = f1_score(val_labels, val_preds, average='weighted')\n",
        "\n",
        "# Print evaluation metrics\n",
        "print(f'Validation Accuracy: {accuracy:.2f}')\n",
        "print(f'Validation Precision: {precision:.2f}')\n",
        "print(f'Validation Recall: {recall:.2f}')\n",
        "print(f'Validation F1 Score: {f1:.2f}')"
      ],
      "metadata": {
        "execution": {
          "iopub.status.busy": "2024-06-18T18:13:01.870621Z",
          "iopub.execute_input": "2024-06-18T18:13:01.87108Z",
          "iopub.status.idle": "2024-06-18T18:13:01.916053Z",
          "shell.execute_reply.started": "2024-06-18T18:13:01.871045Z",
          "shell.execute_reply": "2024-06-18T18:13:01.914709Z"
        },
        "trusted": true,
        "colab": {
          "base_uri": "https://localhost:8080/"
        },
        "id": "NwE5LEfE1tw_",
        "outputId": "92ceeecd-b5cd-4819-ed4f-f71f21090818"
      },
      "execution_count": null,
      "outputs": [
        {
          "output_type": "stream",
          "name": "stdout",
          "text": [
            "Validation Accuracy: 0.68\n",
            "Validation Precision: 0.69\n",
            "Validation Recall: 0.68\n",
            "Validation F1 Score: 0.68\n"
          ]
        }
      ]
    },
    {
      "cell_type": "code",
      "source": [
        "# LSTM Classification Report\n",
        "print(\"LSTM - Classification Report:\\n\", classification_report(val_labels, val_preds, target_names=label_encoder.classes_))"
      ],
      "metadata": {
        "execution": {
          "iopub.status.busy": "2024-06-18T18:13:06.83518Z",
          "iopub.execute_input": "2024-06-18T18:13:06.83563Z",
          "iopub.status.idle": "2024-06-18T18:13:06.866285Z",
          "shell.execute_reply.started": "2024-06-18T18:13:06.835575Z",
          "shell.execute_reply": "2024-06-18T18:13:06.865039Z"
        },
        "trusted": true,
        "colab": {
          "base_uri": "https://localhost:8080/"
        },
        "id": "MI42Ysiw1tw_",
        "outputId": "7c158bdc-c401-4378-9ef2-f17e00f05473"
      },
      "execution_count": null,
      "outputs": [
        {
          "output_type": "stream",
          "name": "stdout",
          "text": [
            "LSTM - Classification Report:\n",
            "               precision    recall  f1-score   support\n",
            "\n",
            "    negative       0.68      0.61      0.64      1572\n",
            "     neutral       0.65      0.70      0.68      2236\n",
            "    positive       0.73      0.74      0.73      1688\n",
            "\n",
            "    accuracy                           0.68      5496\n",
            "   macro avg       0.69      0.68      0.68      5496\n",
            "weighted avg       0.69      0.68      0.68      5496\n",
            "\n"
          ]
        }
      ]
    },
    {
      "cell_type": "markdown",
      "source": [
        "**LSTM Classification Report**\n",
        "\n",
        "For the negative class, the model achieved a precision of 70%, a recall of 59%, and an F1-score of 64%. This suggests that the model can identify negative tweets fairly well but has a moderate level of false negatives. For the neutral class, the model achieved a precision of 63%, a recall of 71%, and an F1-score of 67%. These metrics indicate that the model is relatively good at identifying neutral tweets, although there is room for improvement in precision. The positive class shows a precision of 73%, a recall of 72%, and an F1-score of 73%, reflecting a balanced performance in recognizing positive tweets. The overall accuracy of the model is 68%, with macro and weighted averages for precision, recall, and F1-score around 68-69%. These results suggest that while the LSTM model performs reasonably well, there is variability in its effectiveness across different classes.\n",
        "\n",
        "**Comparison of All Models**\n",
        "\n",
        "When comparing the performance of the Logistic Regression, BERT, and LSTM models, several key differences emerge. The logistic regression model achieved an accuracy of 68% with consistent precision, recall, and F1-scores around 68-69%. It showed moderate performance but struggled to distinguish between the different sentiment classes effectively. The BERT model, on the other hand, outperformed the logistic regression and LSTM models, achieving an accuracy of 80%. It had higher precision and recall for all classes, especially for neutral and negative sentiments, indicating its strong capability in sentiment analysis tasks. The LSTM model also performed well with an accuracy of 68%, similar to the logistic regression model, but showed better balance in precision and recall across the different sentiment classes compared to logistic regression.\n",
        "\n",
        "**Conclusion**\n",
        "\n",
        "Among the three models evaluated, the BERT model demonstrated the best overall performance with an accuracy of 80% and strong precision, recall, and F1-scores across all sentiment classes. It effectively distinguished between negative, neutral, and positive sentiments, making it the most reliable choice for sentiment analysis of Twitter tweets. While the logistic regression and LSTM models provided useful baselines, the BERT model's advanced capabilities in understanding contextual nuances and capturing the complexities of language make it the superior choice. This notebook successfully developed and evaluated multiple machine learning models for sentiment analysis, providing valuable insights into public sentiment expressed in tweets and highlighting the effectiveness of BERT in such tasks."
      ],
      "metadata": {
        "id": "4vI9bSWM1tw_"
      }
    }
  ]
}